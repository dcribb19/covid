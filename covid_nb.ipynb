{
 "metadata": {
  "language_info": {
   "codemirror_mode": {
    "name": "ipython",
    "version": 3
   },
   "file_extension": ".py",
   "mimetype": "text/x-python",
   "name": "python",
   "nbconvert_exporter": "python",
   "pygments_lexer": "ipython3",
   "version": "3.8.3-final"
  },
  "orig_nbformat": 2,
  "kernelspec": {
   "name": "Python 3.8.3 64-bit ('venv')",
   "display_name": "Python 3.8.3 64-bit ('venv')",
   "metadata": {
    "interpreter": {
     "hash": "5a0a65022d29d006d79daaee06b4d34570668d9ac2a977919c8e75af18031bad"
    }
   }
  }
 },
 "nbformat": 4,
 "nbformat_minor": 2,
 "cells": [
  {
   "cell_type": "code",
   "execution_count": 1,
   "metadata": {},
   "outputs": [],
   "source": [
    "import pandas as pd\n",
    "import plotly.express as px\n",
    "import plotly.graph_objects as go\n",
    "from sodapy import Socrata"
   ]
  },
  {
   "cell_type": "code",
   "execution_count": 2,
   "metadata": {},
   "outputs": [
    {
     "output_type": "stream",
     "name": "stderr",
     "text": [
      "WARNING:root:Requests made without an app_token will be subject to strict throttling limits.\n"
     ]
    }
   ],
   "source": [
    "client = Socrata('data.cdc.gov', None)\n",
    "# Use None for public data set.\n",
    "results = client.get('9mfq-cb36', limit=20_000)\n",
    "df = pd.DataFrame.from_records(results)\n",
    "df['submission_date'] = pd.to_datetime(df['submission_date'], format='%Y-%m-%d')\n",
    "df['new_case'] = df['new_case'].astype(float).astype(int)\n",
    "df['tot_cases'] = df['tot_cases'].astype(int)"
   ]
  },
  {
   "cell_type": "code",
   "execution_count": 3,
   "metadata": {},
   "outputs": [
    {
     "output_type": "execute_result",
     "data": {
      "text/plain": [
       "Index(['submission_date', 'state', 'tot_cases', 'new_case', 'tot_death',\n",
       "       'new_death', 'created_at', 'consent_cases', 'consent_deaths',\n",
       "       'conf_cases', 'prob_cases', 'pnew_case', 'conf_death', 'prob_death',\n",
       "       'pnew_death'],\n",
       "      dtype='object')"
      ]
     },
     "metadata": {},
     "execution_count": 3
    }
   ],
   "source": [
    "df.columns"
   ]
  },
  {
   "cell_type": "code",
   "execution_count": 6,
   "metadata": {},
   "outputs": [
    {
     "output_type": "execute_result",
     "data": {
      "text/plain": [
       "submission_date    datetime64[ns]\n",
       "state                      object\n",
       "tot_cases                   int32\n",
       "new_case                    int32\n",
       "tot_death                  object\n",
       "new_death                  object\n",
       "created_at                 object\n",
       "consent_cases              object\n",
       "consent_deaths             object\n",
       "conf_cases                 object\n",
       "prob_cases                 object\n",
       "pnew_case                  object\n",
       "conf_death                 object\n",
       "prob_death                 object\n",
       "pnew_death                 object\n",
       "dtype: object"
      ]
     },
     "metadata": {},
     "execution_count": 6
    }
   ],
   "source": [
    "df.dtypes"
   ]
  },
  {
   "cell_type": "code",
   "execution_count": 16,
   "metadata": {},
   "outputs": [
    {
     "output_type": "execute_result",
     "data": {
      "text/plain": [
       "'253   2020-10-01\\nName: submission_date, dtype: datetime64[ns]'"
      ]
     },
     "metadata": {},
     "execution_count": 16
    }
   ],
   "source": [
    "str(df[df['submission_date'] == '2020-10-01'].query('state == \"CO\"').submission_date)"
   ]
  },
  {
   "cell_type": "code",
   "execution_count": 5,
   "metadata": {},
   "outputs": [],
   "source": [
    "oct_18_2020 = df.query('submission_date == \"2020-10-18T00:00:00.000\"')"
   ]
  },
  {
   "cell_type": "code",
   "execution_count": 16,
   "metadata": {},
   "outputs": [
    {
     "output_type": "display_data",
     "data": {
      "application/vnd.plotly.v1+json": {
       "config": {
        "plotlyServerURL": "https://plot.ly"
       },
       "data": [
        {
         "colorbar": {
          "title": {
           "text": "Total Cases"
          }
         },
         "colorscale": [
          [
           0,
           "rgb(253, 237, 176)"
          ],
          [
           0.09090909090909091,
           "rgb(250, 205, 145)"
          ],
          [
           0.18181818181818182,
           "rgb(246, 173, 119)"
          ],
          [
           0.2727272727272727,
           "rgb(240, 142, 98)"
          ],
          [
           0.36363636363636365,
           "rgb(231, 109, 84)"
          ],
          [
           0.45454545454545453,
           "rgb(216, 80, 83)"
          ],
          [
           0.5454545454545454,
           "rgb(195, 56, 90)"
          ],
          [
           0.6363636363636364,
           "rgb(168, 40, 96)"
          ],
          [
           0.7272727272727273,
           "rgb(138, 29, 99)"
          ],
          [
           0.8181818181818182,
           "rgb(107, 24, 93)"
          ],
          [
           0.9090909090909091,
           "rgb(76, 21, 80)"
          ],
          [
           1,
           "rgb(47, 15, 61)"
          ]
         ],
         "locationmode": "USA-states",
         "locations": [
          "CO",
          "FL",
          "AZ",
          "SC",
          "CT",
          "NE",
          "KY",
          "WY",
          "IA",
          "NM",
          "ND",
          "WA",
          "RMI",
          "TN",
          "AS",
          "MA",
          "PA",
          "NYC",
          "OH",
          "AL",
          "VA",
          "MI",
          "MS",
          "CA",
          "IL",
          "TX",
          "WI",
          "NJ",
          "LA",
          "PR",
          "NC",
          "OK",
          "NV",
          "GA",
          "ID",
          "NY",
          "MD",
          "IN",
          "AR",
          "OR",
          "UT",
          "MO",
          "MN",
          "DE",
          "WV",
          "RI",
          "SD",
          "DC",
          "NH",
          "ME",
          "KS",
          "MT",
          "HI",
          "AK",
          "VT",
          "GU",
          "VI",
          "MP",
          "FSM",
          "PW"
         ],
         "type": "choropleth",
         "z": [
          85302,
          745492,
          231149,
          163990,
          62830,
          58068,
          87607,
          9025,
          107122,
          36788,
          32637,
          98201,
          0,
          228744,
          0,
          150543,
          182212,
          255817,
          181787,
          172626,
          166828,
          159119,
          110592,
          867317,
          347635,
          823779,
          175227,
          220013,
          178869,
          57950,
          246028,
          111624,
          90357,
          340558,
          53092,
          229929,
          136154,
          147582,
          99066,
          39532,
          94394,
          156696,
          124439,
          23196,
          20081,
          27691,
          33269,
          16370,
          9694,
          5962,
          70855,
          22821,
          13989,
          10980,
          1937,
          3538,
          1335,
          86,
          0,
          0
         ]
        }
       ],
       "layout": {
        "geo": {
         "scope": "usa"
        },
        "template": {
         "data": {
          "bar": [
           {
            "error_x": {
             "color": "#2a3f5f"
            },
            "error_y": {
             "color": "#2a3f5f"
            },
            "marker": {
             "line": {
              "color": "#E5ECF6",
              "width": 0.5
             }
            },
            "type": "bar"
           }
          ],
          "barpolar": [
           {
            "marker": {
             "line": {
              "color": "#E5ECF6",
              "width": 0.5
             }
            },
            "type": "barpolar"
           }
          ],
          "carpet": [
           {
            "aaxis": {
             "endlinecolor": "#2a3f5f",
             "gridcolor": "white",
             "linecolor": "white",
             "minorgridcolor": "white",
             "startlinecolor": "#2a3f5f"
            },
            "baxis": {
             "endlinecolor": "#2a3f5f",
             "gridcolor": "white",
             "linecolor": "white",
             "minorgridcolor": "white",
             "startlinecolor": "#2a3f5f"
            },
            "type": "carpet"
           }
          ],
          "choropleth": [
           {
            "colorbar": {
             "outlinewidth": 0,
             "ticks": ""
            },
            "type": "choropleth"
           }
          ],
          "contour": [
           {
            "colorbar": {
             "outlinewidth": 0,
             "ticks": ""
            },
            "colorscale": [
             [
              0,
              "#0d0887"
             ],
             [
              0.1111111111111111,
              "#46039f"
             ],
             [
              0.2222222222222222,
              "#7201a8"
             ],
             [
              0.3333333333333333,
              "#9c179e"
             ],
             [
              0.4444444444444444,
              "#bd3786"
             ],
             [
              0.5555555555555556,
              "#d8576b"
             ],
             [
              0.6666666666666666,
              "#ed7953"
             ],
             [
              0.7777777777777778,
              "#fb9f3a"
             ],
             [
              0.8888888888888888,
              "#fdca26"
             ],
             [
              1,
              "#f0f921"
             ]
            ],
            "type": "contour"
           }
          ],
          "contourcarpet": [
           {
            "colorbar": {
             "outlinewidth": 0,
             "ticks": ""
            },
            "type": "contourcarpet"
           }
          ],
          "heatmap": [
           {
            "colorbar": {
             "outlinewidth": 0,
             "ticks": ""
            },
            "colorscale": [
             [
              0,
              "#0d0887"
             ],
             [
              0.1111111111111111,
              "#46039f"
             ],
             [
              0.2222222222222222,
              "#7201a8"
             ],
             [
              0.3333333333333333,
              "#9c179e"
             ],
             [
              0.4444444444444444,
              "#bd3786"
             ],
             [
              0.5555555555555556,
              "#d8576b"
             ],
             [
              0.6666666666666666,
              "#ed7953"
             ],
             [
              0.7777777777777778,
              "#fb9f3a"
             ],
             [
              0.8888888888888888,
              "#fdca26"
             ],
             [
              1,
              "#f0f921"
             ]
            ],
            "type": "heatmap"
           }
          ],
          "heatmapgl": [
           {
            "colorbar": {
             "outlinewidth": 0,
             "ticks": ""
            },
            "colorscale": [
             [
              0,
              "#0d0887"
             ],
             [
              0.1111111111111111,
              "#46039f"
             ],
             [
              0.2222222222222222,
              "#7201a8"
             ],
             [
              0.3333333333333333,
              "#9c179e"
             ],
             [
              0.4444444444444444,
              "#bd3786"
             ],
             [
              0.5555555555555556,
              "#d8576b"
             ],
             [
              0.6666666666666666,
              "#ed7953"
             ],
             [
              0.7777777777777778,
              "#fb9f3a"
             ],
             [
              0.8888888888888888,
              "#fdca26"
             ],
             [
              1,
              "#f0f921"
             ]
            ],
            "type": "heatmapgl"
           }
          ],
          "histogram": [
           {
            "marker": {
             "colorbar": {
              "outlinewidth": 0,
              "ticks": ""
             }
            },
            "type": "histogram"
           }
          ],
          "histogram2d": [
           {
            "colorbar": {
             "outlinewidth": 0,
             "ticks": ""
            },
            "colorscale": [
             [
              0,
              "#0d0887"
             ],
             [
              0.1111111111111111,
              "#46039f"
             ],
             [
              0.2222222222222222,
              "#7201a8"
             ],
             [
              0.3333333333333333,
              "#9c179e"
             ],
             [
              0.4444444444444444,
              "#bd3786"
             ],
             [
              0.5555555555555556,
              "#d8576b"
             ],
             [
              0.6666666666666666,
              "#ed7953"
             ],
             [
              0.7777777777777778,
              "#fb9f3a"
             ],
             [
              0.8888888888888888,
              "#fdca26"
             ],
             [
              1,
              "#f0f921"
             ]
            ],
            "type": "histogram2d"
           }
          ],
          "histogram2dcontour": [
           {
            "colorbar": {
             "outlinewidth": 0,
             "ticks": ""
            },
            "colorscale": [
             [
              0,
              "#0d0887"
             ],
             [
              0.1111111111111111,
              "#46039f"
             ],
             [
              0.2222222222222222,
              "#7201a8"
             ],
             [
              0.3333333333333333,
              "#9c179e"
             ],
             [
              0.4444444444444444,
              "#bd3786"
             ],
             [
              0.5555555555555556,
              "#d8576b"
             ],
             [
              0.6666666666666666,
              "#ed7953"
             ],
             [
              0.7777777777777778,
              "#fb9f3a"
             ],
             [
              0.8888888888888888,
              "#fdca26"
             ],
             [
              1,
              "#f0f921"
             ]
            ],
            "type": "histogram2dcontour"
           }
          ],
          "mesh3d": [
           {
            "colorbar": {
             "outlinewidth": 0,
             "ticks": ""
            },
            "type": "mesh3d"
           }
          ],
          "parcoords": [
           {
            "line": {
             "colorbar": {
              "outlinewidth": 0,
              "ticks": ""
             }
            },
            "type": "parcoords"
           }
          ],
          "pie": [
           {
            "automargin": true,
            "type": "pie"
           }
          ],
          "scatter": [
           {
            "marker": {
             "colorbar": {
              "outlinewidth": 0,
              "ticks": ""
             }
            },
            "type": "scatter"
           }
          ],
          "scatter3d": [
           {
            "line": {
             "colorbar": {
              "outlinewidth": 0,
              "ticks": ""
             }
            },
            "marker": {
             "colorbar": {
              "outlinewidth": 0,
              "ticks": ""
             }
            },
            "type": "scatter3d"
           }
          ],
          "scattercarpet": [
           {
            "marker": {
             "colorbar": {
              "outlinewidth": 0,
              "ticks": ""
             }
            },
            "type": "scattercarpet"
           }
          ],
          "scattergeo": [
           {
            "marker": {
             "colorbar": {
              "outlinewidth": 0,
              "ticks": ""
             }
            },
            "type": "scattergeo"
           }
          ],
          "scattergl": [
           {
            "marker": {
             "colorbar": {
              "outlinewidth": 0,
              "ticks": ""
             }
            },
            "type": "scattergl"
           }
          ],
          "scattermapbox": [
           {
            "marker": {
             "colorbar": {
              "outlinewidth": 0,
              "ticks": ""
             }
            },
            "type": "scattermapbox"
           }
          ],
          "scatterpolar": [
           {
            "marker": {
             "colorbar": {
              "outlinewidth": 0,
              "ticks": ""
             }
            },
            "type": "scatterpolar"
           }
          ],
          "scatterpolargl": [
           {
            "marker": {
             "colorbar": {
              "outlinewidth": 0,
              "ticks": ""
             }
            },
            "type": "scatterpolargl"
           }
          ],
          "scatterternary": [
           {
            "marker": {
             "colorbar": {
              "outlinewidth": 0,
              "ticks": ""
             }
            },
            "type": "scatterternary"
           }
          ],
          "surface": [
           {
            "colorbar": {
             "outlinewidth": 0,
             "ticks": ""
            },
            "colorscale": [
             [
              0,
              "#0d0887"
             ],
             [
              0.1111111111111111,
              "#46039f"
             ],
             [
              0.2222222222222222,
              "#7201a8"
             ],
             [
              0.3333333333333333,
              "#9c179e"
             ],
             [
              0.4444444444444444,
              "#bd3786"
             ],
             [
              0.5555555555555556,
              "#d8576b"
             ],
             [
              0.6666666666666666,
              "#ed7953"
             ],
             [
              0.7777777777777778,
              "#fb9f3a"
             ],
             [
              0.8888888888888888,
              "#fdca26"
             ],
             [
              1,
              "#f0f921"
             ]
            ],
            "type": "surface"
           }
          ],
          "table": [
           {
            "cells": {
             "fill": {
              "color": "#EBF0F8"
             },
             "line": {
              "color": "white"
             }
            },
            "header": {
             "fill": {
              "color": "#C8D4E3"
             },
             "line": {
              "color": "white"
             }
            },
            "type": "table"
           }
          ]
         },
         "layout": {
          "annotationdefaults": {
           "arrowcolor": "#2a3f5f",
           "arrowhead": 0,
           "arrowwidth": 1
          },
          "coloraxis": {
           "colorbar": {
            "outlinewidth": 0,
            "ticks": ""
           }
          },
          "colorscale": {
           "diverging": [
            [
             0,
             "#8e0152"
            ],
            [
             0.1,
             "#c51b7d"
            ],
            [
             0.2,
             "#de77ae"
            ],
            [
             0.3,
             "#f1b6da"
            ],
            [
             0.4,
             "#fde0ef"
            ],
            [
             0.5,
             "#f7f7f7"
            ],
            [
             0.6,
             "#e6f5d0"
            ],
            [
             0.7,
             "#b8e186"
            ],
            [
             0.8,
             "#7fbc41"
            ],
            [
             0.9,
             "#4d9221"
            ],
            [
             1,
             "#276419"
            ]
           ],
           "sequential": [
            [
             0,
             "#0d0887"
            ],
            [
             0.1111111111111111,
             "#46039f"
            ],
            [
             0.2222222222222222,
             "#7201a8"
            ],
            [
             0.3333333333333333,
             "#9c179e"
            ],
            [
             0.4444444444444444,
             "#bd3786"
            ],
            [
             0.5555555555555556,
             "#d8576b"
            ],
            [
             0.6666666666666666,
             "#ed7953"
            ],
            [
             0.7777777777777778,
             "#fb9f3a"
            ],
            [
             0.8888888888888888,
             "#fdca26"
            ],
            [
             1,
             "#f0f921"
            ]
           ],
           "sequentialminus": [
            [
             0,
             "#0d0887"
            ],
            [
             0.1111111111111111,
             "#46039f"
            ],
            [
             0.2222222222222222,
             "#7201a8"
            ],
            [
             0.3333333333333333,
             "#9c179e"
            ],
            [
             0.4444444444444444,
             "#bd3786"
            ],
            [
             0.5555555555555556,
             "#d8576b"
            ],
            [
             0.6666666666666666,
             "#ed7953"
            ],
            [
             0.7777777777777778,
             "#fb9f3a"
            ],
            [
             0.8888888888888888,
             "#fdca26"
            ],
            [
             1,
             "#f0f921"
            ]
           ]
          },
          "colorway": [
           "#636efa",
           "#EF553B",
           "#00cc96",
           "#ab63fa",
           "#FFA15A",
           "#19d3f3",
           "#FF6692",
           "#B6E880",
           "#FF97FF",
           "#FECB52"
          ],
          "font": {
           "color": "#2a3f5f"
          },
          "geo": {
           "bgcolor": "white",
           "lakecolor": "white",
           "landcolor": "#E5ECF6",
           "showlakes": true,
           "showland": true,
           "subunitcolor": "white"
          },
          "hoverlabel": {
           "align": "left"
          },
          "hovermode": "closest",
          "mapbox": {
           "style": "light"
          },
          "paper_bgcolor": "white",
          "plot_bgcolor": "#E5ECF6",
          "polar": {
           "angularaxis": {
            "gridcolor": "white",
            "linecolor": "white",
            "ticks": ""
           },
           "bgcolor": "#E5ECF6",
           "radialaxis": {
            "gridcolor": "white",
            "linecolor": "white",
            "ticks": ""
           }
          },
          "scene": {
           "xaxis": {
            "backgroundcolor": "#E5ECF6",
            "gridcolor": "white",
            "gridwidth": 2,
            "linecolor": "white",
            "showbackground": true,
            "ticks": "",
            "zerolinecolor": "white"
           },
           "yaxis": {
            "backgroundcolor": "#E5ECF6",
            "gridcolor": "white",
            "gridwidth": 2,
            "linecolor": "white",
            "showbackground": true,
            "ticks": "",
            "zerolinecolor": "white"
           },
           "zaxis": {
            "backgroundcolor": "#E5ECF6",
            "gridcolor": "white",
            "gridwidth": 2,
            "linecolor": "white",
            "showbackground": true,
            "ticks": "",
            "zerolinecolor": "white"
           }
          },
          "shapedefaults": {
           "line": {
            "color": "#2a3f5f"
           }
          },
          "ternary": {
           "aaxis": {
            "gridcolor": "white",
            "linecolor": "white",
            "ticks": ""
           },
           "baxis": {
            "gridcolor": "white",
            "linecolor": "white",
            "ticks": ""
           },
           "bgcolor": "#E5ECF6",
           "caxis": {
            "gridcolor": "white",
            "linecolor": "white",
            "ticks": ""
           }
          },
          "title": {
           "x": 0.05
          },
          "xaxis": {
           "automargin": true,
           "gridcolor": "white",
           "linecolor": "white",
           "ticks": "",
           "title": {
            "standoff": 15
           },
           "zerolinecolor": "white",
           "zerolinewidth": 2
          },
          "yaxis": {
           "automargin": true,
           "gridcolor": "white",
           "linecolor": "white",
           "ticks": "",
           "title": {
            "standoff": 15
           },
           "zerolinecolor": "white",
           "zerolinewidth": 2
          }
         }
        },
        "title": {
         "text": "Total Coronavirus Cases Reported as of October 18, 2020",
         "x": 0.5
        }
       }
      }
     },
     "metadata": {}
    }
   ],
   "source": [
    "fig = go.Figure(data=go.Choropleth(\n",
    "    locations=oct_18_2020['state'],\n",
    "    z=oct_18_2020['tot_cases'].astype(int),\n",
    "    locationmode='USA-states',\n",
    "    # colorscale='blues',\n",
    "    colorscale=px.colors.sequential.matter,\n",
    "    colorbar_title='Total Cases'\n",
    "    )\n",
    ")\n",
    "\n",
    "fig.update_layout(\n",
    "    title_text='Total Coronavirus Cases Reported as of October 18, 2020',\n",
    "    title_x=0.5,\n",
    "    geo_scope='usa',\n",
    ")\n",
    "fig.show()"
   ]
  },
  {
   "cell_type": "code",
   "execution_count": 13,
   "metadata": {},
   "outputs": [
    {
     "output_type": "display_data",
     "data": {
      "application/vnd.plotly.v1+json": {
       "config": {
        "plotlyServerURL": "https://plot.ly"
       },
       "data": [
        {
         "colorbar": {
          "title": {
           "text": "Total Cases"
          }
         },
         "colorscale": [
          [
           0,
           "rgb(255,245,240)"
          ],
          [
           0.125,
           "rgb(254,224,210)"
          ],
          [
           0.25,
           "rgb(252,187,161)"
          ],
          [
           0.375,
           "rgb(252,146,114)"
          ],
          [
           0.5,
           "rgb(251,106,74)"
          ],
          [
           0.625,
           "rgb(239,59,44)"
          ],
          [
           0.75,
           "rgb(203,24,29)"
          ],
          [
           0.875,
           "rgb(165,15,21)"
          ],
          [
           1,
           "rgb(103,0,13)"
          ]
         ],
         "locationmode": "USA-states",
         "locations": [
          "CO",
          "FL",
          "AZ",
          "SC",
          "CT",
          "NE",
          "KY",
          "WY",
          "IA",
          "NM",
          "ND",
          "WA",
          "RMI",
          "TN",
          "AS",
          "MA",
          "PA",
          "NYC",
          "OH",
          "AL",
          "VA",
          "MI",
          "MS",
          "CA",
          "IL",
          "TX",
          "WI",
          "NJ",
          "LA",
          "PR",
          "NC",
          "OK",
          "NV",
          "GA",
          "ID",
          "NY",
          "MD",
          "IN",
          "AR",
          "OR",
          "UT",
          "MO",
          "MN",
          "DE",
          "WV",
          "RI",
          "SD",
          "DC",
          "NH",
          "ME",
          "KS",
          "MT",
          "HI",
          "AK",
          "VT",
          "GU",
          "VI",
          "MP",
          "FSM",
          "PW"
         ],
         "type": "choropleth",
         "z": [
          933,
          2474,
          742,
          776,
          0,
          734,
          810,
          209,
          859,
          445,
          659,
          530,
          0,
          2605,
          0,
          744,
          1269,
          1279,
          1562,
          964,
          690,
          0,
          352,
          2862,
          4245,
          3216,
          0,
          1275,
          1143,
          657,
          2303,
          0,
          607,
          1174,
          510,
          778,
          497,
          1605,
          644,
          216,
          1097,
          0,
          3349,
          254,
          280,
          0,
          658,
          36,
          70,
          22,
          0,
          588,
          82,
          220,
          11,
          0,
          0,
          0,
          0,
          0
         ]
        }
       ],
       "layout": {
        "geo": {
         "scope": "usa"
        },
        "template": {
         "data": {
          "bar": [
           {
            "error_x": {
             "color": "#2a3f5f"
            },
            "error_y": {
             "color": "#2a3f5f"
            },
            "marker": {
             "line": {
              "color": "#E5ECF6",
              "width": 0.5
             }
            },
            "type": "bar"
           }
          ],
          "barpolar": [
           {
            "marker": {
             "line": {
              "color": "#E5ECF6",
              "width": 0.5
             }
            },
            "type": "barpolar"
           }
          ],
          "carpet": [
           {
            "aaxis": {
             "endlinecolor": "#2a3f5f",
             "gridcolor": "white",
             "linecolor": "white",
             "minorgridcolor": "white",
             "startlinecolor": "#2a3f5f"
            },
            "baxis": {
             "endlinecolor": "#2a3f5f",
             "gridcolor": "white",
             "linecolor": "white",
             "minorgridcolor": "white",
             "startlinecolor": "#2a3f5f"
            },
            "type": "carpet"
           }
          ],
          "choropleth": [
           {
            "colorbar": {
             "outlinewidth": 0,
             "ticks": ""
            },
            "type": "choropleth"
           }
          ],
          "contour": [
           {
            "colorbar": {
             "outlinewidth": 0,
             "ticks": ""
            },
            "colorscale": [
             [
              0,
              "#0d0887"
             ],
             [
              0.1111111111111111,
              "#46039f"
             ],
             [
              0.2222222222222222,
              "#7201a8"
             ],
             [
              0.3333333333333333,
              "#9c179e"
             ],
             [
              0.4444444444444444,
              "#bd3786"
             ],
             [
              0.5555555555555556,
              "#d8576b"
             ],
             [
              0.6666666666666666,
              "#ed7953"
             ],
             [
              0.7777777777777778,
              "#fb9f3a"
             ],
             [
              0.8888888888888888,
              "#fdca26"
             ],
             [
              1,
              "#f0f921"
             ]
            ],
            "type": "contour"
           }
          ],
          "contourcarpet": [
           {
            "colorbar": {
             "outlinewidth": 0,
             "ticks": ""
            },
            "type": "contourcarpet"
           }
          ],
          "heatmap": [
           {
            "colorbar": {
             "outlinewidth": 0,
             "ticks": ""
            },
            "colorscale": [
             [
              0,
              "#0d0887"
             ],
             [
              0.1111111111111111,
              "#46039f"
             ],
             [
              0.2222222222222222,
              "#7201a8"
             ],
             [
              0.3333333333333333,
              "#9c179e"
             ],
             [
              0.4444444444444444,
              "#bd3786"
             ],
             [
              0.5555555555555556,
              "#d8576b"
             ],
             [
              0.6666666666666666,
              "#ed7953"
             ],
             [
              0.7777777777777778,
              "#fb9f3a"
             ],
             [
              0.8888888888888888,
              "#fdca26"
             ],
             [
              1,
              "#f0f921"
             ]
            ],
            "type": "heatmap"
           }
          ],
          "heatmapgl": [
           {
            "colorbar": {
             "outlinewidth": 0,
             "ticks": ""
            },
            "colorscale": [
             [
              0,
              "#0d0887"
             ],
             [
              0.1111111111111111,
              "#46039f"
             ],
             [
              0.2222222222222222,
              "#7201a8"
             ],
             [
              0.3333333333333333,
              "#9c179e"
             ],
             [
              0.4444444444444444,
              "#bd3786"
             ],
             [
              0.5555555555555556,
              "#d8576b"
             ],
             [
              0.6666666666666666,
              "#ed7953"
             ],
             [
              0.7777777777777778,
              "#fb9f3a"
             ],
             [
              0.8888888888888888,
              "#fdca26"
             ],
             [
              1,
              "#f0f921"
             ]
            ],
            "type": "heatmapgl"
           }
          ],
          "histogram": [
           {
            "marker": {
             "colorbar": {
              "outlinewidth": 0,
              "ticks": ""
             }
            },
            "type": "histogram"
           }
          ],
          "histogram2d": [
           {
            "colorbar": {
             "outlinewidth": 0,
             "ticks": ""
            },
            "colorscale": [
             [
              0,
              "#0d0887"
             ],
             [
              0.1111111111111111,
              "#46039f"
             ],
             [
              0.2222222222222222,
              "#7201a8"
             ],
             [
              0.3333333333333333,
              "#9c179e"
             ],
             [
              0.4444444444444444,
              "#bd3786"
             ],
             [
              0.5555555555555556,
              "#d8576b"
             ],
             [
              0.6666666666666666,
              "#ed7953"
             ],
             [
              0.7777777777777778,
              "#fb9f3a"
             ],
             [
              0.8888888888888888,
              "#fdca26"
             ],
             [
              1,
              "#f0f921"
             ]
            ],
            "type": "histogram2d"
           }
          ],
          "histogram2dcontour": [
           {
            "colorbar": {
             "outlinewidth": 0,
             "ticks": ""
            },
            "colorscale": [
             [
              0,
              "#0d0887"
             ],
             [
              0.1111111111111111,
              "#46039f"
             ],
             [
              0.2222222222222222,
              "#7201a8"
             ],
             [
              0.3333333333333333,
              "#9c179e"
             ],
             [
              0.4444444444444444,
              "#bd3786"
             ],
             [
              0.5555555555555556,
              "#d8576b"
             ],
             [
              0.6666666666666666,
              "#ed7953"
             ],
             [
              0.7777777777777778,
              "#fb9f3a"
             ],
             [
              0.8888888888888888,
              "#fdca26"
             ],
             [
              1,
              "#f0f921"
             ]
            ],
            "type": "histogram2dcontour"
           }
          ],
          "mesh3d": [
           {
            "colorbar": {
             "outlinewidth": 0,
             "ticks": ""
            },
            "type": "mesh3d"
           }
          ],
          "parcoords": [
           {
            "line": {
             "colorbar": {
              "outlinewidth": 0,
              "ticks": ""
             }
            },
            "type": "parcoords"
           }
          ],
          "pie": [
           {
            "automargin": true,
            "type": "pie"
           }
          ],
          "scatter": [
           {
            "marker": {
             "colorbar": {
              "outlinewidth": 0,
              "ticks": ""
             }
            },
            "type": "scatter"
           }
          ],
          "scatter3d": [
           {
            "line": {
             "colorbar": {
              "outlinewidth": 0,
              "ticks": ""
             }
            },
            "marker": {
             "colorbar": {
              "outlinewidth": 0,
              "ticks": ""
             }
            },
            "type": "scatter3d"
           }
          ],
          "scattercarpet": [
           {
            "marker": {
             "colorbar": {
              "outlinewidth": 0,
              "ticks": ""
             }
            },
            "type": "scattercarpet"
           }
          ],
          "scattergeo": [
           {
            "marker": {
             "colorbar": {
              "outlinewidth": 0,
              "ticks": ""
             }
            },
            "type": "scattergeo"
           }
          ],
          "scattergl": [
           {
            "marker": {
             "colorbar": {
              "outlinewidth": 0,
              "ticks": ""
             }
            },
            "type": "scattergl"
           }
          ],
          "scattermapbox": [
           {
            "marker": {
             "colorbar": {
              "outlinewidth": 0,
              "ticks": ""
             }
            },
            "type": "scattermapbox"
           }
          ],
          "scatterpolar": [
           {
            "marker": {
             "colorbar": {
              "outlinewidth": 0,
              "ticks": ""
             }
            },
            "type": "scatterpolar"
           }
          ],
          "scatterpolargl": [
           {
            "marker": {
             "colorbar": {
              "outlinewidth": 0,
              "ticks": ""
             }
            },
            "type": "scatterpolargl"
           }
          ],
          "scatterternary": [
           {
            "marker": {
             "colorbar": {
              "outlinewidth": 0,
              "ticks": ""
             }
            },
            "type": "scatterternary"
           }
          ],
          "surface": [
           {
            "colorbar": {
             "outlinewidth": 0,
             "ticks": ""
            },
            "colorscale": [
             [
              0,
              "#0d0887"
             ],
             [
              0.1111111111111111,
              "#46039f"
             ],
             [
              0.2222222222222222,
              "#7201a8"
             ],
             [
              0.3333333333333333,
              "#9c179e"
             ],
             [
              0.4444444444444444,
              "#bd3786"
             ],
             [
              0.5555555555555556,
              "#d8576b"
             ],
             [
              0.6666666666666666,
              "#ed7953"
             ],
             [
              0.7777777777777778,
              "#fb9f3a"
             ],
             [
              0.8888888888888888,
              "#fdca26"
             ],
             [
              1,
              "#f0f921"
             ]
            ],
            "type": "surface"
           }
          ],
          "table": [
           {
            "cells": {
             "fill": {
              "color": "#EBF0F8"
             },
             "line": {
              "color": "white"
             }
            },
            "header": {
             "fill": {
              "color": "#C8D4E3"
             },
             "line": {
              "color": "white"
             }
            },
            "type": "table"
           }
          ]
         },
         "layout": {
          "annotationdefaults": {
           "arrowcolor": "#2a3f5f",
           "arrowhead": 0,
           "arrowwidth": 1
          },
          "coloraxis": {
           "colorbar": {
            "outlinewidth": 0,
            "ticks": ""
           }
          },
          "colorscale": {
           "diverging": [
            [
             0,
             "#8e0152"
            ],
            [
             0.1,
             "#c51b7d"
            ],
            [
             0.2,
             "#de77ae"
            ],
            [
             0.3,
             "#f1b6da"
            ],
            [
             0.4,
             "#fde0ef"
            ],
            [
             0.5,
             "#f7f7f7"
            ],
            [
             0.6,
             "#e6f5d0"
            ],
            [
             0.7,
             "#b8e186"
            ],
            [
             0.8,
             "#7fbc41"
            ],
            [
             0.9,
             "#4d9221"
            ],
            [
             1,
             "#276419"
            ]
           ],
           "sequential": [
            [
             0,
             "#0d0887"
            ],
            [
             0.1111111111111111,
             "#46039f"
            ],
            [
             0.2222222222222222,
             "#7201a8"
            ],
            [
             0.3333333333333333,
             "#9c179e"
            ],
            [
             0.4444444444444444,
             "#bd3786"
            ],
            [
             0.5555555555555556,
             "#d8576b"
            ],
            [
             0.6666666666666666,
             "#ed7953"
            ],
            [
             0.7777777777777778,
             "#fb9f3a"
            ],
            [
             0.8888888888888888,
             "#fdca26"
            ],
            [
             1,
             "#f0f921"
            ]
           ],
           "sequentialminus": [
            [
             0,
             "#0d0887"
            ],
            [
             0.1111111111111111,
             "#46039f"
            ],
            [
             0.2222222222222222,
             "#7201a8"
            ],
            [
             0.3333333333333333,
             "#9c179e"
            ],
            [
             0.4444444444444444,
             "#bd3786"
            ],
            [
             0.5555555555555556,
             "#d8576b"
            ],
            [
             0.6666666666666666,
             "#ed7953"
            ],
            [
             0.7777777777777778,
             "#fb9f3a"
            ],
            [
             0.8888888888888888,
             "#fdca26"
            ],
            [
             1,
             "#f0f921"
            ]
           ]
          },
          "colorway": [
           "#636efa",
           "#EF553B",
           "#00cc96",
           "#ab63fa",
           "#FFA15A",
           "#19d3f3",
           "#FF6692",
           "#B6E880",
           "#FF97FF",
           "#FECB52"
          ],
          "font": {
           "color": "#2a3f5f"
          },
          "geo": {
           "bgcolor": "white",
           "lakecolor": "white",
           "landcolor": "#E5ECF6",
           "showlakes": true,
           "showland": true,
           "subunitcolor": "white"
          },
          "hoverlabel": {
           "align": "left"
          },
          "hovermode": "closest",
          "mapbox": {
           "style": "light"
          },
          "paper_bgcolor": "white",
          "plot_bgcolor": "#E5ECF6",
          "polar": {
           "angularaxis": {
            "gridcolor": "white",
            "linecolor": "white",
            "ticks": ""
           },
           "bgcolor": "#E5ECF6",
           "radialaxis": {
            "gridcolor": "white",
            "linecolor": "white",
            "ticks": ""
           }
          },
          "scene": {
           "xaxis": {
            "backgroundcolor": "#E5ECF6",
            "gridcolor": "white",
            "gridwidth": 2,
            "linecolor": "white",
            "showbackground": true,
            "ticks": "",
            "zerolinecolor": "white"
           },
           "yaxis": {
            "backgroundcolor": "#E5ECF6",
            "gridcolor": "white",
            "gridwidth": 2,
            "linecolor": "white",
            "showbackground": true,
            "ticks": "",
            "zerolinecolor": "white"
           },
           "zaxis": {
            "backgroundcolor": "#E5ECF6",
            "gridcolor": "white",
            "gridwidth": 2,
            "linecolor": "white",
            "showbackground": true,
            "ticks": "",
            "zerolinecolor": "white"
           }
          },
          "shapedefaults": {
           "line": {
            "color": "#2a3f5f"
           }
          },
          "ternary": {
           "aaxis": {
            "gridcolor": "white",
            "linecolor": "white",
            "ticks": ""
           },
           "baxis": {
            "gridcolor": "white",
            "linecolor": "white",
            "ticks": ""
           },
           "bgcolor": "#E5ECF6",
           "caxis": {
            "gridcolor": "white",
            "linecolor": "white",
            "ticks": ""
           }
          },
          "title": {
           "x": 0.05
          },
          "xaxis": {
           "automargin": true,
           "gridcolor": "white",
           "linecolor": "white",
           "ticks": "",
           "title": {
            "standoff": 15
           },
           "zerolinecolor": "white",
           "zerolinewidth": 2
          },
          "yaxis": {
           "automargin": true,
           "gridcolor": "white",
           "linecolor": "white",
           "ticks": "",
           "title": {
            "standoff": 15
           },
           "zerolinecolor": "white",
           "zerolinewidth": 2
          }
         }
        },
        "title": {
         "text": "New Coronavirus Cases - October 18, 2020",
         "x": 0.5
        }
       }
      }
     },
     "metadata": {}
    }
   ],
   "source": [
    "fig = go.Figure(data=go.Choropleth(\n",
    "    locations=oct_18_2020['state'],\n",
    "    z=oct_18_2020['new_case'],\n",
    "    locationmode='USA-states',\n",
    "    # colorscale='reds',\n",
    "    colorscale=px.colors.sequential.Reds,\n",
    "    colorbar_title='Total Cases'\n",
    "    )\n",
    ")\n",
    "\n",
    "fig.update_layout(\n",
    "    title_text='New Coronavirus Cases - October 18, 2020',\n",
    "    title_x=0.5,\n",
    "    geo_scope='usa',\n",
    ")\n",
    "fig.show()"
   ]
  },
  {
   "cell_type": "code",
   "execution_count": 8,
   "metadata": {},
   "outputs": [
    {
     "output_type": "execute_result",
     "data": {
      "text/plain": [
       "str"
      ]
     },
     "metadata": {},
     "execution_count": 8
    }
   ],
   "source": [
    "type(oct_18_2020['new_case'].iloc[0])"
   ]
  },
  {
   "cell_type": "code",
   "execution_count": 9,
   "metadata": {},
   "outputs": [
    {
     "output_type": "execute_result",
     "data": {
      "text/plain": [
       "              submission_date state tot_cases new_case tot_death new_death  \\\n",
       "7342  2020-10-18T00:00:00.000    WI    175227      0.0      1588       0.0   \n",
       "\n",
       "                   created_at consent_cases consent_deaths conf_cases  \\\n",
       "7342  2020-10-19T14:06:44.391         Agree          Agree   166186.0   \n",
       "\n",
       "     prob_cases pnew_case conf_death prob_death pnew_death  \n",
       "7342       9041         0     1574.0         14          0  "
      ],
      "text/html": "<div>\n<style scoped>\n    .dataframe tbody tr th:only-of-type {\n        vertical-align: middle;\n    }\n\n    .dataframe tbody tr th {\n        vertical-align: top;\n    }\n\n    .dataframe thead th {\n        text-align: right;\n    }\n</style>\n<table border=\"1\" class=\"dataframe\">\n  <thead>\n    <tr style=\"text-align: right;\">\n      <th></th>\n      <th>submission_date</th>\n      <th>state</th>\n      <th>tot_cases</th>\n      <th>new_case</th>\n      <th>tot_death</th>\n      <th>new_death</th>\n      <th>created_at</th>\n      <th>consent_cases</th>\n      <th>consent_deaths</th>\n      <th>conf_cases</th>\n      <th>prob_cases</th>\n      <th>pnew_case</th>\n      <th>conf_death</th>\n      <th>prob_death</th>\n      <th>pnew_death</th>\n    </tr>\n  </thead>\n  <tbody>\n    <tr>\n      <th>7342</th>\n      <td>2020-10-18T00:00:00.000</td>\n      <td>WI</td>\n      <td>175227</td>\n      <td>0.0</td>\n      <td>1588</td>\n      <td>0.0</td>\n      <td>2020-10-19T14:06:44.391</td>\n      <td>Agree</td>\n      <td>Agree</td>\n      <td>166186.0</td>\n      <td>9041</td>\n      <td>0</td>\n      <td>1574.0</td>\n      <td>14</td>\n      <td>0</td>\n    </tr>\n  </tbody>\n</table>\n</div>"
     },
     "metadata": {},
     "execution_count": 9
    }
   ],
   "source": [
    "oct_18_2020[oct_18_2020['state'] == 'WI']"
   ]
  },
  {
   "cell_type": "code",
   "execution_count": 10,
   "metadata": {},
   "outputs": [
    {
     "output_type": "execute_result",
     "data": {
      "text/plain": [
       "Index(['submission_date', 'state', 'tot_cases', 'new_case', 'tot_death',\n",
       "       'new_death', 'created_at', 'consent_cases', 'consent_deaths',\n",
       "       'conf_cases', 'prob_cases', 'pnew_case', 'conf_death', 'prob_death',\n",
       "       'pnew_death'],\n",
       "      dtype='object')"
      ]
     },
     "metadata": {},
     "execution_count": 10
    }
   ],
   "source": [
    "df.columns"
   ]
  },
  {
   "cell_type": "code",
   "execution_count": 11,
   "metadata": {},
   "outputs": [
    {
     "output_type": "execute_result",
     "data": {
      "text/plain": [
       "str"
      ]
     },
     "metadata": {},
     "execution_count": 11
    }
   ],
   "source": [
    "type(df['submission_date'][0])"
   ]
  },
  {
   "cell_type": "code",
   "execution_count": 25,
   "metadata": {},
   "outputs": [],
   "source": [
    "df['submission_date'] = pd.to_datetime(df['submission_date'], format='%Y-%m-%d')"
   ]
  },
  {
   "cell_type": "code",
   "execution_count": 26,
   "metadata": {},
   "outputs": [
    {
     "output_type": "execute_result",
     "data": {
      "text/plain": [
       "submission_date    datetime64[ns]\n",
       "state                      object\n",
       "tot_cases                  object\n",
       "new_case                   object\n",
       "tot_death                  object\n",
       "new_death                  object\n",
       "created_at                 object\n",
       "consent_cases              object\n",
       "consent_deaths             object\n",
       "conf_cases                 object\n",
       "prob_cases                 object\n",
       "pnew_case                  object\n",
       "conf_death                 object\n",
       "prob_death                 object\n",
       "pnew_death                 object\n",
       "dtype: object"
      ]
     },
     "metadata": {},
     "execution_count": 26
    }
   ],
   "source": [
    "df.dtypes"
   ]
  },
  {
   "cell_type": "code",
   "execution_count": 27,
   "metadata": {},
   "outputs": [],
   "source": [
    "jan_22_2020 = df.query('submission_date == \"2020-01-22\"')"
   ]
  },
  {
   "cell_type": "code",
   "execution_count": 30,
   "metadata": {},
   "outputs": [
    {
     "output_type": "stream",
     "name": "stdout",
     "text": [
      "Figure({\n    'data': [{'colorbar': {'title': {'text': 'Total Cases'}},\n              'colorscale': [[0.0, 'rgb(255,245,240)'], [0.125,\n                             'rgb(254,224,210)'], [0.25, 'rgb(252,187,161)'],\n                             [0.375, 'rgb(252,146,114)'], [0.5, 'rgb(251,106,74)'],\n                             [0.625, 'rgb(239,59,44)'], [0.75, 'rgb(203,24,29)'],\n                             [0.875, 'rgb(165,15,21)'], [1.0, 'rgb(103,0,13)']],\n              'locationmode': 'USA-states',\n              'locations': array(['CO', 'FL', 'AZ', 'SC', 'CT', 'NE', 'KY', 'WY', 'IA', 'NM', 'ND', 'WA',\n                                  'RMI', 'TN', 'AS', 'MA', 'PA', 'NYC', 'OH', 'AL', 'VA', 'MI', 'MS',\n                                  'CA', 'IL', 'TX', 'WI', 'NJ', 'LA', 'PR', 'NC', 'OK', 'NV', 'GA', 'ID',\n                                  'NY', 'MD', 'IN', 'AR', 'OR', 'UT', 'MO', 'MN', 'DE', 'WV', 'RI', 'SD',\n                                  'DC', 'NH', 'KS', 'ME', 'HI', 'MT', 'AK', 'VT', 'GU', 'VI', 'MP', 'FSM',\n                                  'PW'], dtype=object),\n              'type': 'choropleth',\n              'z': array(['0', '0', '0', '0', '0', '0', '0', '0', '0', '0', '0', '1', '0', '0',\n                          '0', '0', '0', '0', '0', '0', '0', '0', '0', '0', '0', '0', '0', '0',\n                          '0', '0', '0', '0', '0', '0', '0', '0', '0', '0', '0', '0', '0', '0',\n                          '0', '0', '0', '0', '0', '0', '0', '0', '0', '0', '0', '0', '0', '0',\n                          '0', '0', '0', '0'], dtype=object)}],\n    'layout': {'geo': {'scope': 'usa'},\n               'template': '...',\n               'title': {'text': 'New Coronavirus Cases - January 22, 2020', 'x': 0.5}}\n})\n"
     ]
    }
   ],
   "source": [
    "fig = go.Figure(data=go.Choropleth(\n",
    "    locations=jan_22_2020['state'],\n",
    "    z=jan_22_2020['new_case'],\n",
    "    locationmode='USA-states',\n",
    "    colorscale='reds',\n",
    "    colorbar_title='Total Cases'\n",
    "    )\n",
    ")\n",
    "\n",
    "fig.update_layout(\n",
    "    title_text='New Coronavirus Cases - January 22, 2020',\n",
    "    title_x=0.5,\n",
    "    geo_scope='usa',\n",
    ")\n",
    "print(fig)\n",
    "# fig.show()"
   ]
  },
  {
   "cell_type": "code",
   "execution_count": 31,
   "metadata": {},
   "outputs": [],
   "source": [
    "mar_14_2020 = df.query('submission_date == \"2020-03-14\"')"
   ]
  },
  {
   "cell_type": "code",
   "execution_count": 32,
   "metadata": {},
   "outputs": [
    {
     "output_type": "stream",
     "name": "stdout",
     "text": [
      "Figure({\n    'data': [{'colorbar': {'title': {'text': 'Total Cases'}},\n              'colorscale': [[0.0, 'rgb(255,245,240)'], [0.125,\n                             'rgb(254,224,210)'], [0.25, 'rgb(252,187,161)'],\n                             [0.375, 'rgb(252,146,114)'], [0.5, 'rgb(251,106,74)'],\n                             [0.625, 'rgb(239,59,44)'], [0.75, 'rgb(203,24,29)'],\n                             [0.875, 'rgb(165,15,21)'], [1.0, 'rgb(103,0,13)']],\n              'locationmode': 'USA-states',\n              'locations': array(['CO', 'FL', 'AZ', 'SC', 'CT', 'NE', 'KY', 'WY', 'IA', 'NM', 'ND', 'WA',\n                                  'RMI', 'TN', 'AS', 'MA', 'PA', 'NYC', 'OH', 'AL', 'VA', 'MI', 'MS',\n                                  'CA', 'IL', 'TX', 'WI', 'NJ', 'LA', 'PR', 'NC', 'OK', 'NV', 'GA', 'ID',\n                                  'NY', 'MD', 'IN', 'AR', 'OR', 'UT', 'MO', 'MN', 'DE', 'WV', 'RI', 'SD',\n                                  'DC', 'NH', 'KS', 'ME', 'HI', 'MT', 'AK', 'VT', 'GU', 'VI', 'MP', 'FSM',\n                                  'PW'], dtype=object),\n              'type': 'choropleth',\n              'z': array(['0.0', '24.0', '2.0', '0.0', '0.0', '0.0', '4.0', '1.0', '0.0', '2.0',\n                          '0.0', '74.0', '0.0', '0.0', '0.0', '0.0', '18.0', '55.0', '0.0', '0.0',\n                          '0.0', '12.0', '5.0', '47.0', '0.0', '7.0', '10.0', '14.0', '0.0',\n                          '0.0', '2.0', '0.0', '0.0', '0.0', '1.0', '44.0', '0.0', '0.0', '3.0',\n                          '0.0', '0.0', '0.0', '0.0', '3.0', '0.0', '4.0', '0.0', '0.0', '0.0',\n                          '1.0', '4.0', '0.0', '0.0', '0.0', '1.0', '0.0', '0.0', '0.0', '0.0',\n                          '0.0'], dtype=object)}],\n    'layout': {'template': '...'}\n})\n"
     ]
    }
   ],
   "source": [
    "fig = go.Figure(data=go.Choropleth(\n",
    "    locations=mar_14_2020['state'],\n",
    "    z=mar_14_2020['new_case'],\n",
    "    locationmode='USA-states',\n",
    "    colorscale='reds',\n",
    "    colorbar_title='Total Cases'\n",
    "    )\n",
    ")\n",
    "\n",
    "print(fig)"
   ]
  },
  {
   "cell_type": "code",
   "execution_count": 33,
   "metadata": {},
   "outputs": [
    {
     "output_type": "execute_result",
     "data": {
      "text/plain": [
       "                state tot_cases new_case tot_death new_death  \\\n",
       "submission_date                                                \n",
       "2020-01-22         CO         0        0         0         0   \n",
       "2020-01-23         CO         0      0.0         0       0.0   \n",
       "2020-01-24         CO         0      0.0         0       0.0   \n",
       "2020-01-25         CO         0      0.0         0       0.0   \n",
       "2020-01-26         CO         0      0.0         0       0.0   \n",
       "...               ...       ...      ...       ...       ...   \n",
       "2020-10-15         PW         0      0.0         0       0.0   \n",
       "2020-10-16         PW         0      0.0         0       0.0   \n",
       "2020-10-17         PW         0      0.0         0       0.0   \n",
       "2020-10-18         PW         0      0.0         0       0.0   \n",
       "2020-10-19         PW         0      0.0         0       0.0   \n",
       "\n",
       "                              created_at consent_cases consent_deaths  \\\n",
       "submission_date                                                         \n",
       "2020-01-22       2020-03-26T16:22:39.452         Agree          Agree   \n",
       "2020-01-23       2020-03-26T16:22:39.452         Agree          Agree   \n",
       "2020-01-24       2020-03-26T16:22:39.452         Agree          Agree   \n",
       "2020-01-25       2020-03-26T16:22:39.452         Agree          Agree   \n",
       "2020-01-26       2020-03-26T16:22:39.452         Agree          Agree   \n",
       "...                                  ...           ...            ...   \n",
       "2020-10-15       2020-10-16T13:33:55.808           NaN            NaN   \n",
       "2020-10-16       2020-10-17T14:09:18.876           NaN            NaN   \n",
       "2020-10-17       2020-10-18T13:26:54.146           NaN            NaN   \n",
       "2020-10-18       2020-10-19T14:06:44.391           NaN            NaN   \n",
       "2020-10-19       2020-10-20T14:59:27.967           NaN            NaN   \n",
       "\n",
       "                conf_cases prob_cases pnew_case conf_death prob_death  \\\n",
       "submission_date                                                         \n",
       "2020-01-22             NaN        NaN       NaN        NaN        NaN   \n",
       "2020-01-23             NaN        NaN       NaN        NaN        NaN   \n",
       "2020-01-24             NaN        NaN       NaN        NaN        NaN   \n",
       "2020-01-25             NaN        NaN       NaN        NaN        NaN   \n",
       "2020-01-26             NaN        NaN       NaN        NaN        NaN   \n",
       "...                    ...        ...       ...        ...        ...   \n",
       "2020-10-15             NaN        NaN         0        NaN        NaN   \n",
       "2020-10-16             NaN        NaN         0        NaN        NaN   \n",
       "2020-10-17             NaN        NaN         0        NaN        NaN   \n",
       "2020-10-18             NaN        NaN         0        NaN        NaN   \n",
       "2020-10-19             NaN        NaN         0        NaN        NaN   \n",
       "\n",
       "                pnew_death  \n",
       "submission_date             \n",
       "2020-01-22             NaN  \n",
       "2020-01-23             NaN  \n",
       "2020-01-24             NaN  \n",
       "2020-01-25             NaN  \n",
       "2020-01-26             NaN  \n",
       "...                    ...  \n",
       "2020-10-15               0  \n",
       "2020-10-16               0  \n",
       "2020-10-17               0  \n",
       "2020-10-18               0  \n",
       "2020-10-19               0  \n",
       "\n",
       "[16320 rows x 14 columns]"
      ],
      "text/html": "<div>\n<style scoped>\n    .dataframe tbody tr th:only-of-type {\n        vertical-align: middle;\n    }\n\n    .dataframe tbody tr th {\n        vertical-align: top;\n    }\n\n    .dataframe thead th {\n        text-align: right;\n    }\n</style>\n<table border=\"1\" class=\"dataframe\">\n  <thead>\n    <tr style=\"text-align: right;\">\n      <th></th>\n      <th>state</th>\n      <th>tot_cases</th>\n      <th>new_case</th>\n      <th>tot_death</th>\n      <th>new_death</th>\n      <th>created_at</th>\n      <th>consent_cases</th>\n      <th>consent_deaths</th>\n      <th>conf_cases</th>\n      <th>prob_cases</th>\n      <th>pnew_case</th>\n      <th>conf_death</th>\n      <th>prob_death</th>\n      <th>pnew_death</th>\n    </tr>\n    <tr>\n      <th>submission_date</th>\n      <th></th>\n      <th></th>\n      <th></th>\n      <th></th>\n      <th></th>\n      <th></th>\n      <th></th>\n      <th></th>\n      <th></th>\n      <th></th>\n      <th></th>\n      <th></th>\n      <th></th>\n      <th></th>\n    </tr>\n  </thead>\n  <tbody>\n    <tr>\n      <th>2020-01-22</th>\n      <td>CO</td>\n      <td>0</td>\n      <td>0</td>\n      <td>0</td>\n      <td>0</td>\n      <td>2020-03-26T16:22:39.452</td>\n      <td>Agree</td>\n      <td>Agree</td>\n      <td>NaN</td>\n      <td>NaN</td>\n      <td>NaN</td>\n      <td>NaN</td>\n      <td>NaN</td>\n      <td>NaN</td>\n    </tr>\n    <tr>\n      <th>2020-01-23</th>\n      <td>CO</td>\n      <td>0</td>\n      <td>0.0</td>\n      <td>0</td>\n      <td>0.0</td>\n      <td>2020-03-26T16:22:39.452</td>\n      <td>Agree</td>\n      <td>Agree</td>\n      <td>NaN</td>\n      <td>NaN</td>\n      <td>NaN</td>\n      <td>NaN</td>\n      <td>NaN</td>\n      <td>NaN</td>\n    </tr>\n    <tr>\n      <th>2020-01-24</th>\n      <td>CO</td>\n      <td>0</td>\n      <td>0.0</td>\n      <td>0</td>\n      <td>0.0</td>\n      <td>2020-03-26T16:22:39.452</td>\n      <td>Agree</td>\n      <td>Agree</td>\n      <td>NaN</td>\n      <td>NaN</td>\n      <td>NaN</td>\n      <td>NaN</td>\n      <td>NaN</td>\n      <td>NaN</td>\n    </tr>\n    <tr>\n      <th>2020-01-25</th>\n      <td>CO</td>\n      <td>0</td>\n      <td>0.0</td>\n      <td>0</td>\n      <td>0.0</td>\n      <td>2020-03-26T16:22:39.452</td>\n      <td>Agree</td>\n      <td>Agree</td>\n      <td>NaN</td>\n      <td>NaN</td>\n      <td>NaN</td>\n      <td>NaN</td>\n      <td>NaN</td>\n      <td>NaN</td>\n    </tr>\n    <tr>\n      <th>2020-01-26</th>\n      <td>CO</td>\n      <td>0</td>\n      <td>0.0</td>\n      <td>0</td>\n      <td>0.0</td>\n      <td>2020-03-26T16:22:39.452</td>\n      <td>Agree</td>\n      <td>Agree</td>\n      <td>NaN</td>\n      <td>NaN</td>\n      <td>NaN</td>\n      <td>NaN</td>\n      <td>NaN</td>\n      <td>NaN</td>\n    </tr>\n    <tr>\n      <th>...</th>\n      <td>...</td>\n      <td>...</td>\n      <td>...</td>\n      <td>...</td>\n      <td>...</td>\n      <td>...</td>\n      <td>...</td>\n      <td>...</td>\n      <td>...</td>\n      <td>...</td>\n      <td>...</td>\n      <td>...</td>\n      <td>...</td>\n      <td>...</td>\n    </tr>\n    <tr>\n      <th>2020-10-15</th>\n      <td>PW</td>\n      <td>0</td>\n      <td>0.0</td>\n      <td>0</td>\n      <td>0.0</td>\n      <td>2020-10-16T13:33:55.808</td>\n      <td>NaN</td>\n      <td>NaN</td>\n      <td>NaN</td>\n      <td>NaN</td>\n      <td>0</td>\n      <td>NaN</td>\n      <td>NaN</td>\n      <td>0</td>\n    </tr>\n    <tr>\n      <th>2020-10-16</th>\n      <td>PW</td>\n      <td>0</td>\n      <td>0.0</td>\n      <td>0</td>\n      <td>0.0</td>\n      <td>2020-10-17T14:09:18.876</td>\n      <td>NaN</td>\n      <td>NaN</td>\n      <td>NaN</td>\n      <td>NaN</td>\n      <td>0</td>\n      <td>NaN</td>\n      <td>NaN</td>\n      <td>0</td>\n    </tr>\n    <tr>\n      <th>2020-10-17</th>\n      <td>PW</td>\n      <td>0</td>\n      <td>0.0</td>\n      <td>0</td>\n      <td>0.0</td>\n      <td>2020-10-18T13:26:54.146</td>\n      <td>NaN</td>\n      <td>NaN</td>\n      <td>NaN</td>\n      <td>NaN</td>\n      <td>0</td>\n      <td>NaN</td>\n      <td>NaN</td>\n      <td>0</td>\n    </tr>\n    <tr>\n      <th>2020-10-18</th>\n      <td>PW</td>\n      <td>0</td>\n      <td>0.0</td>\n      <td>0</td>\n      <td>0.0</td>\n      <td>2020-10-19T14:06:44.391</td>\n      <td>NaN</td>\n      <td>NaN</td>\n      <td>NaN</td>\n      <td>NaN</td>\n      <td>0</td>\n      <td>NaN</td>\n      <td>NaN</td>\n      <td>0</td>\n    </tr>\n    <tr>\n      <th>2020-10-19</th>\n      <td>PW</td>\n      <td>0</td>\n      <td>0.0</td>\n      <td>0</td>\n      <td>0.0</td>\n      <td>2020-10-20T14:59:27.967</td>\n      <td>NaN</td>\n      <td>NaN</td>\n      <td>NaN</td>\n      <td>NaN</td>\n      <td>0</td>\n      <td>NaN</td>\n      <td>NaN</td>\n      <td>0</td>\n    </tr>\n  </tbody>\n</table>\n<p>16320 rows × 14 columns</p>\n</div>"
     },
     "metadata": {},
     "execution_count": 33
    }
   ],
   "source": [
    "df.set_index('submission_date')"
   ]
  },
  {
   "cell_type": "code",
   "execution_count": 58,
   "metadata": {},
   "outputs": [],
   "source": [
    "mar = df.query('submission_date == \"2020-03-14\"')"
   ]
  },
  {
   "cell_type": "code",
   "execution_count": 68,
   "metadata": {},
   "outputs": [
    {
     "output_type": "display_data",
     "data": {
      "application/vnd.plotly.v1+json": {
       "config": {
        "plotlyServerURL": "https://plot.ly"
       },
       "data": [
        {
         "colorbar": {
          "title": {
           "text": "Total Cases"
          }
         },
         "colorscale": [
          [
           0,
           "rgb(255,245,240)"
          ],
          [
           0.125,
           "rgb(254,224,210)"
          ],
          [
           0.25,
           "rgb(252,187,161)"
          ],
          [
           0.375,
           "rgb(252,146,114)"
          ],
          [
           0.5,
           "rgb(251,106,74)"
          ],
          [
           0.625,
           "rgb(239,59,44)"
          ],
          [
           0.75,
           "rgb(203,24,29)"
          ],
          [
           0.875,
           "rgb(165,15,21)"
          ],
          [
           1,
           "rgb(103,0,13)"
          ]
         ],
         "locationmode": "USA-states",
         "locations": [
          "CO",
          "FL",
          "AZ",
          "SC",
          "CT",
          "NE",
          "KY",
          "WY",
          "IA",
          "NM",
          "ND",
          "WA",
          "RMI",
          "TN",
          "AS",
          "MA",
          "PA",
          "NYC",
          "OH",
          "AL",
          "VA",
          "MI",
          "MS",
          "CA",
          "IL",
          "TX",
          "WI",
          "NJ",
          "LA",
          "PR",
          "NC",
          "OK",
          "NV",
          "GA",
          "ID",
          "NY",
          "MD",
          "IN",
          "AR",
          "OR",
          "UT",
          "MO",
          "MN",
          "DE",
          "WV",
          "RI",
          "SD",
          "DC",
          "NH",
          "KS",
          "ME",
          "HI",
          "MT",
          "AK",
          "VT",
          "GU",
          "VI",
          "MP",
          "FSM",
          "PW"
         ],
         "type": "choropleth",
         "z": [
          "0.0",
          "24.0",
          "2.0",
          "0.0",
          "0.0",
          "0.0",
          "4.0",
          "1.0",
          "0.0",
          "2.0",
          "0.0",
          "74.0",
          "0.0",
          "0.0",
          "0.0",
          "0.0",
          "18.0",
          "55.0",
          "0.0",
          "0.0",
          "0.0",
          "12.0",
          "5.0",
          "47.0",
          "0.0",
          "7.0",
          "10.0",
          "14.0",
          "0.0",
          "0.0",
          "2.0",
          "0.0",
          "0.0",
          "0.0",
          "1.0",
          "44.0",
          "0.0",
          "0.0",
          "3.0",
          "0.0",
          "0.0",
          "0.0",
          "0.0",
          "3.0",
          "0.0",
          "4.0",
          "0.0",
          "0.0",
          "0.0",
          "1.0",
          "4.0",
          "0.0",
          "0.0",
          "0.0",
          "1.0",
          "0.0",
          "0.0",
          "0.0",
          "0.0",
          "0.0"
         ]
        }
       ],
       "layout": {
        "geo": {
         "scope": "usa"
        },
        "template": {
         "data": {
          "bar": [
           {
            "error_x": {
             "color": "#2a3f5f"
            },
            "error_y": {
             "color": "#2a3f5f"
            },
            "marker": {
             "line": {
              "color": "#E5ECF6",
              "width": 0.5
             }
            },
            "type": "bar"
           }
          ],
          "barpolar": [
           {
            "marker": {
             "line": {
              "color": "#E5ECF6",
              "width": 0.5
             }
            },
            "type": "barpolar"
           }
          ],
          "carpet": [
           {
            "aaxis": {
             "endlinecolor": "#2a3f5f",
             "gridcolor": "white",
             "linecolor": "white",
             "minorgridcolor": "white",
             "startlinecolor": "#2a3f5f"
            },
            "baxis": {
             "endlinecolor": "#2a3f5f",
             "gridcolor": "white",
             "linecolor": "white",
             "minorgridcolor": "white",
             "startlinecolor": "#2a3f5f"
            },
            "type": "carpet"
           }
          ],
          "choropleth": [
           {
            "colorbar": {
             "outlinewidth": 0,
             "ticks": ""
            },
            "type": "choropleth"
           }
          ],
          "contour": [
           {
            "colorbar": {
             "outlinewidth": 0,
             "ticks": ""
            },
            "colorscale": [
             [
              0,
              "#0d0887"
             ],
             [
              0.1111111111111111,
              "#46039f"
             ],
             [
              0.2222222222222222,
              "#7201a8"
             ],
             [
              0.3333333333333333,
              "#9c179e"
             ],
             [
              0.4444444444444444,
              "#bd3786"
             ],
             [
              0.5555555555555556,
              "#d8576b"
             ],
             [
              0.6666666666666666,
              "#ed7953"
             ],
             [
              0.7777777777777778,
              "#fb9f3a"
             ],
             [
              0.8888888888888888,
              "#fdca26"
             ],
             [
              1,
              "#f0f921"
             ]
            ],
            "type": "contour"
           }
          ],
          "contourcarpet": [
           {
            "colorbar": {
             "outlinewidth": 0,
             "ticks": ""
            },
            "type": "contourcarpet"
           }
          ],
          "heatmap": [
           {
            "colorbar": {
             "outlinewidth": 0,
             "ticks": ""
            },
            "colorscale": [
             [
              0,
              "#0d0887"
             ],
             [
              0.1111111111111111,
              "#46039f"
             ],
             [
              0.2222222222222222,
              "#7201a8"
             ],
             [
              0.3333333333333333,
              "#9c179e"
             ],
             [
              0.4444444444444444,
              "#bd3786"
             ],
             [
              0.5555555555555556,
              "#d8576b"
             ],
             [
              0.6666666666666666,
              "#ed7953"
             ],
             [
              0.7777777777777778,
              "#fb9f3a"
             ],
             [
              0.8888888888888888,
              "#fdca26"
             ],
             [
              1,
              "#f0f921"
             ]
            ],
            "type": "heatmap"
           }
          ],
          "heatmapgl": [
           {
            "colorbar": {
             "outlinewidth": 0,
             "ticks": ""
            },
            "colorscale": [
             [
              0,
              "#0d0887"
             ],
             [
              0.1111111111111111,
              "#46039f"
             ],
             [
              0.2222222222222222,
              "#7201a8"
             ],
             [
              0.3333333333333333,
              "#9c179e"
             ],
             [
              0.4444444444444444,
              "#bd3786"
             ],
             [
              0.5555555555555556,
              "#d8576b"
             ],
             [
              0.6666666666666666,
              "#ed7953"
             ],
             [
              0.7777777777777778,
              "#fb9f3a"
             ],
             [
              0.8888888888888888,
              "#fdca26"
             ],
             [
              1,
              "#f0f921"
             ]
            ],
            "type": "heatmapgl"
           }
          ],
          "histogram": [
           {
            "marker": {
             "colorbar": {
              "outlinewidth": 0,
              "ticks": ""
             }
            },
            "type": "histogram"
           }
          ],
          "histogram2d": [
           {
            "colorbar": {
             "outlinewidth": 0,
             "ticks": ""
            },
            "colorscale": [
             [
              0,
              "#0d0887"
             ],
             [
              0.1111111111111111,
              "#46039f"
             ],
             [
              0.2222222222222222,
              "#7201a8"
             ],
             [
              0.3333333333333333,
              "#9c179e"
             ],
             [
              0.4444444444444444,
              "#bd3786"
             ],
             [
              0.5555555555555556,
              "#d8576b"
             ],
             [
              0.6666666666666666,
              "#ed7953"
             ],
             [
              0.7777777777777778,
              "#fb9f3a"
             ],
             [
              0.8888888888888888,
              "#fdca26"
             ],
             [
              1,
              "#f0f921"
             ]
            ],
            "type": "histogram2d"
           }
          ],
          "histogram2dcontour": [
           {
            "colorbar": {
             "outlinewidth": 0,
             "ticks": ""
            },
            "colorscale": [
             [
              0,
              "#0d0887"
             ],
             [
              0.1111111111111111,
              "#46039f"
             ],
             [
              0.2222222222222222,
              "#7201a8"
             ],
             [
              0.3333333333333333,
              "#9c179e"
             ],
             [
              0.4444444444444444,
              "#bd3786"
             ],
             [
              0.5555555555555556,
              "#d8576b"
             ],
             [
              0.6666666666666666,
              "#ed7953"
             ],
             [
              0.7777777777777778,
              "#fb9f3a"
             ],
             [
              0.8888888888888888,
              "#fdca26"
             ],
             [
              1,
              "#f0f921"
             ]
            ],
            "type": "histogram2dcontour"
           }
          ],
          "mesh3d": [
           {
            "colorbar": {
             "outlinewidth": 0,
             "ticks": ""
            },
            "type": "mesh3d"
           }
          ],
          "parcoords": [
           {
            "line": {
             "colorbar": {
              "outlinewidth": 0,
              "ticks": ""
             }
            },
            "type": "parcoords"
           }
          ],
          "pie": [
           {
            "automargin": true,
            "type": "pie"
           }
          ],
          "scatter": [
           {
            "marker": {
             "colorbar": {
              "outlinewidth": 0,
              "ticks": ""
             }
            },
            "type": "scatter"
           }
          ],
          "scatter3d": [
           {
            "line": {
             "colorbar": {
              "outlinewidth": 0,
              "ticks": ""
             }
            },
            "marker": {
             "colorbar": {
              "outlinewidth": 0,
              "ticks": ""
             }
            },
            "type": "scatter3d"
           }
          ],
          "scattercarpet": [
           {
            "marker": {
             "colorbar": {
              "outlinewidth": 0,
              "ticks": ""
             }
            },
            "type": "scattercarpet"
           }
          ],
          "scattergeo": [
           {
            "marker": {
             "colorbar": {
              "outlinewidth": 0,
              "ticks": ""
             }
            },
            "type": "scattergeo"
           }
          ],
          "scattergl": [
           {
            "marker": {
             "colorbar": {
              "outlinewidth": 0,
              "ticks": ""
             }
            },
            "type": "scattergl"
           }
          ],
          "scattermapbox": [
           {
            "marker": {
             "colorbar": {
              "outlinewidth": 0,
              "ticks": ""
             }
            },
            "type": "scattermapbox"
           }
          ],
          "scatterpolar": [
           {
            "marker": {
             "colorbar": {
              "outlinewidth": 0,
              "ticks": ""
             }
            },
            "type": "scatterpolar"
           }
          ],
          "scatterpolargl": [
           {
            "marker": {
             "colorbar": {
              "outlinewidth": 0,
              "ticks": ""
             }
            },
            "type": "scatterpolargl"
           }
          ],
          "scatterternary": [
           {
            "marker": {
             "colorbar": {
              "outlinewidth": 0,
              "ticks": ""
             }
            },
            "type": "scatterternary"
           }
          ],
          "surface": [
           {
            "colorbar": {
             "outlinewidth": 0,
             "ticks": ""
            },
            "colorscale": [
             [
              0,
              "#0d0887"
             ],
             [
              0.1111111111111111,
              "#46039f"
             ],
             [
              0.2222222222222222,
              "#7201a8"
             ],
             [
              0.3333333333333333,
              "#9c179e"
             ],
             [
              0.4444444444444444,
              "#bd3786"
             ],
             [
              0.5555555555555556,
              "#d8576b"
             ],
             [
              0.6666666666666666,
              "#ed7953"
             ],
             [
              0.7777777777777778,
              "#fb9f3a"
             ],
             [
              0.8888888888888888,
              "#fdca26"
             ],
             [
              1,
              "#f0f921"
             ]
            ],
            "type": "surface"
           }
          ],
          "table": [
           {
            "cells": {
             "fill": {
              "color": "#EBF0F8"
             },
             "line": {
              "color": "white"
             }
            },
            "header": {
             "fill": {
              "color": "#C8D4E3"
             },
             "line": {
              "color": "white"
             }
            },
            "type": "table"
           }
          ]
         },
         "layout": {
          "annotationdefaults": {
           "arrowcolor": "#2a3f5f",
           "arrowhead": 0,
           "arrowwidth": 1
          },
          "coloraxis": {
           "colorbar": {
            "outlinewidth": 0,
            "ticks": ""
           }
          },
          "colorscale": {
           "diverging": [
            [
             0,
             "#8e0152"
            ],
            [
             0.1,
             "#c51b7d"
            ],
            [
             0.2,
             "#de77ae"
            ],
            [
             0.3,
             "#f1b6da"
            ],
            [
             0.4,
             "#fde0ef"
            ],
            [
             0.5,
             "#f7f7f7"
            ],
            [
             0.6,
             "#e6f5d0"
            ],
            [
             0.7,
             "#b8e186"
            ],
            [
             0.8,
             "#7fbc41"
            ],
            [
             0.9,
             "#4d9221"
            ],
            [
             1,
             "#276419"
            ]
           ],
           "sequential": [
            [
             0,
             "#0d0887"
            ],
            [
             0.1111111111111111,
             "#46039f"
            ],
            [
             0.2222222222222222,
             "#7201a8"
            ],
            [
             0.3333333333333333,
             "#9c179e"
            ],
            [
             0.4444444444444444,
             "#bd3786"
            ],
            [
             0.5555555555555556,
             "#d8576b"
            ],
            [
             0.6666666666666666,
             "#ed7953"
            ],
            [
             0.7777777777777778,
             "#fb9f3a"
            ],
            [
             0.8888888888888888,
             "#fdca26"
            ],
            [
             1,
             "#f0f921"
            ]
           ],
           "sequentialminus": [
            [
             0,
             "#0d0887"
            ],
            [
             0.1111111111111111,
             "#46039f"
            ],
            [
             0.2222222222222222,
             "#7201a8"
            ],
            [
             0.3333333333333333,
             "#9c179e"
            ],
            [
             0.4444444444444444,
             "#bd3786"
            ],
            [
             0.5555555555555556,
             "#d8576b"
            ],
            [
             0.6666666666666666,
             "#ed7953"
            ],
            [
             0.7777777777777778,
             "#fb9f3a"
            ],
            [
             0.8888888888888888,
             "#fdca26"
            ],
            [
             1,
             "#f0f921"
            ]
           ]
          },
          "colorway": [
           "#636efa",
           "#EF553B",
           "#00cc96",
           "#ab63fa",
           "#FFA15A",
           "#19d3f3",
           "#FF6692",
           "#B6E880",
           "#FF97FF",
           "#FECB52"
          ],
          "font": {
           "color": "#2a3f5f"
          },
          "geo": {
           "bgcolor": "white",
           "lakecolor": "white",
           "landcolor": "#E5ECF6",
           "showlakes": true,
           "showland": true,
           "subunitcolor": "white"
          },
          "hoverlabel": {
           "align": "left"
          },
          "hovermode": "closest",
          "mapbox": {
           "style": "light"
          },
          "paper_bgcolor": "white",
          "plot_bgcolor": "#E5ECF6",
          "polar": {
           "angularaxis": {
            "gridcolor": "white",
            "linecolor": "white",
            "ticks": ""
           },
           "bgcolor": "#E5ECF6",
           "radialaxis": {
            "gridcolor": "white",
            "linecolor": "white",
            "ticks": ""
           }
          },
          "scene": {
           "xaxis": {
            "backgroundcolor": "#E5ECF6",
            "gridcolor": "white",
            "gridwidth": 2,
            "linecolor": "white",
            "showbackground": true,
            "ticks": "",
            "zerolinecolor": "white"
           },
           "yaxis": {
            "backgroundcolor": "#E5ECF6",
            "gridcolor": "white",
            "gridwidth": 2,
            "linecolor": "white",
            "showbackground": true,
            "ticks": "",
            "zerolinecolor": "white"
           },
           "zaxis": {
            "backgroundcolor": "#E5ECF6",
            "gridcolor": "white",
            "gridwidth": 2,
            "linecolor": "white",
            "showbackground": true,
            "ticks": "",
            "zerolinecolor": "white"
           }
          },
          "shapedefaults": {
           "line": {
            "color": "#2a3f5f"
           }
          },
          "ternary": {
           "aaxis": {
            "gridcolor": "white",
            "linecolor": "white",
            "ticks": ""
           },
           "baxis": {
            "gridcolor": "white",
            "linecolor": "white",
            "ticks": ""
           },
           "bgcolor": "#E5ECF6",
           "caxis": {
            "gridcolor": "white",
            "linecolor": "white",
            "ticks": ""
           }
          },
          "title": {
           "x": 0.05
          },
          "xaxis": {
           "automargin": true,
           "gridcolor": "white",
           "linecolor": "white",
           "ticks": "",
           "title": {
            "standoff": 15
           },
           "zerolinecolor": "white",
           "zerolinewidth": 2
          },
          "yaxis": {
           "automargin": true,
           "gridcolor": "white",
           "linecolor": "white",
           "ticks": "",
           "title": {
            "standoff": 15
           },
           "zerolinecolor": "white",
           "zerolinewidth": 2
          }
         }
        },
        "title": {
         "text": "New Coronavirus Cases - March 14, 2020",
         "x": 0.5
        }
       }
      }
     },
     "metadata": {}
    }
   ],
   "source": [
    "fig = go.Figure(data=go.Choropleth(\n",
    "    locations=mar['state'],\n",
    "    z=mar['new_case'],\n",
    "    locationmode='USA-states',\n",
    "    colorscale='reds',\n",
    "    colorbar_title='Total Cases'\n",
    "    )\n",
    ")\n",
    "\n",
    "fig.update_layout(\n",
    "    title_text='New Coronavirus Cases - March 14, 2020',\n",
    "    title_x=0.5,\n",
    "    geo_scope='usa',\n",
    ")\n",
    "\n",
    "fig.show()"
   ]
  },
  {
   "cell_type": "code",
   "execution_count": 70,
   "metadata": {},
   "outputs": [
    {
     "output_type": "execute_result",
     "data": {
      "text/plain": [
       "submission_date    datetime64[ns]\n",
       "state                      object\n",
       "tot_cases                  object\n",
       "new_case                   object\n",
       "tot_death                  object\n",
       "new_death                  object\n",
       "created_at                 object\n",
       "consent_cases              object\n",
       "consent_deaths             object\n",
       "conf_cases                 object\n",
       "prob_cases                 object\n",
       "pnew_case                  object\n",
       "conf_death                 object\n",
       "prob_death                 object\n",
       "pnew_death                 object\n",
       "dtype: object"
      ]
     },
     "metadata": {},
     "execution_count": 70
    }
   ],
   "source": [
    "mar.dtypes"
   ]
  },
  {
   "cell_type": "code",
   "execution_count": 76,
   "metadata": {},
   "outputs": [],
   "source": [
    "mar['new_case'] = mar['new_case'].astype(float).astype(int)"
   ]
  },
  {
   "cell_type": "code",
   "execution_count": 77,
   "metadata": {},
   "outputs": [
    {
     "output_type": "execute_result",
     "data": {
      "text/plain": [
       "submission_date    datetime64[ns]\n",
       "state                      object\n",
       "tot_cases                  object\n",
       "new_case                    int32\n",
       "tot_death                  object\n",
       "new_death                  object\n",
       "created_at                 object\n",
       "consent_cases              object\n",
       "consent_deaths             object\n",
       "conf_cases                 object\n",
       "prob_cases                 object\n",
       "pnew_case                  object\n",
       "conf_death                 object\n",
       "prob_death                 object\n",
       "pnew_death                 object\n",
       "dtype: object"
      ]
     },
     "metadata": {},
     "execution_count": 77
    }
   ],
   "source": [
    "mar.dtypes"
   ]
  },
  {
   "cell_type": "code",
   "execution_count": 78,
   "metadata": {},
   "outputs": [],
   "source": [
    "mar['tot_cases'] = mar['tot_cases'].astype(int)"
   ]
  },
  {
   "cell_type": "code",
   "execution_count": 79,
   "metadata": {},
   "outputs": [
    {
     "output_type": "execute_result",
     "data": {
      "text/plain": [
       "      state  new_case  tot_cases\n",
       "52       CO         0         49\n",
       "324      FL        24         55\n",
       "596      AZ         2         12\n",
       "868      SC         0         12\n",
       "1140     CT         0          7\n",
       "1412     NE         0         10\n",
       "1684     KY         4         15\n",
       "1956     WY         1          2\n",
       "2228     IA         0         16\n",
       "2500     NM         2          7\n",
       "2772     ND         0          1\n",
       "3044     WA        74        642\n",
       "3316    RMI         0          0\n",
       "3588     TN         0         26\n",
       "3860     AS         0          0\n",
       "4132     MA         0        109\n",
       "4404     PA        18         47\n",
       "4676    NYC        55        150\n",
       "4948     OH         0          5\n",
       "5220     AL         0          1\n",
       "5492     VA         0         29\n",
       "5764     MI        12         25\n",
       "6036     MS         5          6\n",
       "6308     CA        47        311\n",
       "6580     IL         0         32\n",
       "6852     TX         7         43\n",
       "7124     WI        10         19\n",
       "7396     NJ        14         44\n",
       "7668     LA         0         33\n",
       "7940     PR         0          0\n",
       "8212     NC         2         17\n",
       "8484     OK         0          5\n",
       "8756     NV         0         11\n",
       "9028     GA         0         45\n",
       "9300     ID         1          1\n",
       "9572     NY        44        311\n",
       "9844     MD         0         12\n",
       "10116    IN         0         12\n",
       "10388    AR         3         12\n",
       "10660    OR         0         24\n",
       "10932    UT         0          6\n",
       "11204    MO         0          2\n",
       "11476    MN         0         14\n",
       "11748    DE         3          8\n",
       "12020    WV         0          0\n",
       "12292    RI         4          9\n",
       "12564    SD         0          9\n",
       "12836    DC         0          3\n",
       "13108    NH         0          6\n",
       "13380    KS         1          7\n",
       "13652    ME         4          5\n",
       "13924    HI         0          2\n",
       "14196    MT         0          1\n",
       "14468    AK         0          1\n",
       "14740    VT         1          3\n",
       "15012    GU         0          0\n",
       "15284    VI         0          0\n",
       "15556    MP         0          0\n",
       "15828   FSM         0          0\n",
       "16100    PW         0          0"
      ],
      "text/html": "<div>\n<style scoped>\n    .dataframe tbody tr th:only-of-type {\n        vertical-align: middle;\n    }\n\n    .dataframe tbody tr th {\n        vertical-align: top;\n    }\n\n    .dataframe thead th {\n        text-align: right;\n    }\n</style>\n<table border=\"1\" class=\"dataframe\">\n  <thead>\n    <tr style=\"text-align: right;\">\n      <th></th>\n      <th>state</th>\n      <th>new_case</th>\n      <th>tot_cases</th>\n    </tr>\n  </thead>\n  <tbody>\n    <tr>\n      <th>52</th>\n      <td>CO</td>\n      <td>0</td>\n      <td>49</td>\n    </tr>\n    <tr>\n      <th>324</th>\n      <td>FL</td>\n      <td>24</td>\n      <td>55</td>\n    </tr>\n    <tr>\n      <th>596</th>\n      <td>AZ</td>\n      <td>2</td>\n      <td>12</td>\n    </tr>\n    <tr>\n      <th>868</th>\n      <td>SC</td>\n      <td>0</td>\n      <td>12</td>\n    </tr>\n    <tr>\n      <th>1140</th>\n      <td>CT</td>\n      <td>0</td>\n      <td>7</td>\n    </tr>\n    <tr>\n      <th>1412</th>\n      <td>NE</td>\n      <td>0</td>\n      <td>10</td>\n    </tr>\n    <tr>\n      <th>1684</th>\n      <td>KY</td>\n      <td>4</td>\n      <td>15</td>\n    </tr>\n    <tr>\n      <th>1956</th>\n      <td>WY</td>\n      <td>1</td>\n      <td>2</td>\n    </tr>\n    <tr>\n      <th>2228</th>\n      <td>IA</td>\n      <td>0</td>\n      <td>16</td>\n    </tr>\n    <tr>\n      <th>2500</th>\n      <td>NM</td>\n      <td>2</td>\n      <td>7</td>\n    </tr>\n    <tr>\n      <th>2772</th>\n      <td>ND</td>\n      <td>0</td>\n      <td>1</td>\n    </tr>\n    <tr>\n      <th>3044</th>\n      <td>WA</td>\n      <td>74</td>\n      <td>642</td>\n    </tr>\n    <tr>\n      <th>3316</th>\n      <td>RMI</td>\n      <td>0</td>\n      <td>0</td>\n    </tr>\n    <tr>\n      <th>3588</th>\n      <td>TN</td>\n      <td>0</td>\n      <td>26</td>\n    </tr>\n    <tr>\n      <th>3860</th>\n      <td>AS</td>\n      <td>0</td>\n      <td>0</td>\n    </tr>\n    <tr>\n      <th>4132</th>\n      <td>MA</td>\n      <td>0</td>\n      <td>109</td>\n    </tr>\n    <tr>\n      <th>4404</th>\n      <td>PA</td>\n      <td>18</td>\n      <td>47</td>\n    </tr>\n    <tr>\n      <th>4676</th>\n      <td>NYC</td>\n      <td>55</td>\n      <td>150</td>\n    </tr>\n    <tr>\n      <th>4948</th>\n      <td>OH</td>\n      <td>0</td>\n      <td>5</td>\n    </tr>\n    <tr>\n      <th>5220</th>\n      <td>AL</td>\n      <td>0</td>\n      <td>1</td>\n    </tr>\n    <tr>\n      <th>5492</th>\n      <td>VA</td>\n      <td>0</td>\n      <td>29</td>\n    </tr>\n    <tr>\n      <th>5764</th>\n      <td>MI</td>\n      <td>12</td>\n      <td>25</td>\n    </tr>\n    <tr>\n      <th>6036</th>\n      <td>MS</td>\n      <td>5</td>\n      <td>6</td>\n    </tr>\n    <tr>\n      <th>6308</th>\n      <td>CA</td>\n      <td>47</td>\n      <td>311</td>\n    </tr>\n    <tr>\n      <th>6580</th>\n      <td>IL</td>\n      <td>0</td>\n      <td>32</td>\n    </tr>\n    <tr>\n      <th>6852</th>\n      <td>TX</td>\n      <td>7</td>\n      <td>43</td>\n    </tr>\n    <tr>\n      <th>7124</th>\n      <td>WI</td>\n      <td>10</td>\n      <td>19</td>\n    </tr>\n    <tr>\n      <th>7396</th>\n      <td>NJ</td>\n      <td>14</td>\n      <td>44</td>\n    </tr>\n    <tr>\n      <th>7668</th>\n      <td>LA</td>\n      <td>0</td>\n      <td>33</td>\n    </tr>\n    <tr>\n      <th>7940</th>\n      <td>PR</td>\n      <td>0</td>\n      <td>0</td>\n    </tr>\n    <tr>\n      <th>8212</th>\n      <td>NC</td>\n      <td>2</td>\n      <td>17</td>\n    </tr>\n    <tr>\n      <th>8484</th>\n      <td>OK</td>\n      <td>0</td>\n      <td>5</td>\n    </tr>\n    <tr>\n      <th>8756</th>\n      <td>NV</td>\n      <td>0</td>\n      <td>11</td>\n    </tr>\n    <tr>\n      <th>9028</th>\n      <td>GA</td>\n      <td>0</td>\n      <td>45</td>\n    </tr>\n    <tr>\n      <th>9300</th>\n      <td>ID</td>\n      <td>1</td>\n      <td>1</td>\n    </tr>\n    <tr>\n      <th>9572</th>\n      <td>NY</td>\n      <td>44</td>\n      <td>311</td>\n    </tr>\n    <tr>\n      <th>9844</th>\n      <td>MD</td>\n      <td>0</td>\n      <td>12</td>\n    </tr>\n    <tr>\n      <th>10116</th>\n      <td>IN</td>\n      <td>0</td>\n      <td>12</td>\n    </tr>\n    <tr>\n      <th>10388</th>\n      <td>AR</td>\n      <td>3</td>\n      <td>12</td>\n    </tr>\n    <tr>\n      <th>10660</th>\n      <td>OR</td>\n      <td>0</td>\n      <td>24</td>\n    </tr>\n    <tr>\n      <th>10932</th>\n      <td>UT</td>\n      <td>0</td>\n      <td>6</td>\n    </tr>\n    <tr>\n      <th>11204</th>\n      <td>MO</td>\n      <td>0</td>\n      <td>2</td>\n    </tr>\n    <tr>\n      <th>11476</th>\n      <td>MN</td>\n      <td>0</td>\n      <td>14</td>\n    </tr>\n    <tr>\n      <th>11748</th>\n      <td>DE</td>\n      <td>3</td>\n      <td>8</td>\n    </tr>\n    <tr>\n      <th>12020</th>\n      <td>WV</td>\n      <td>0</td>\n      <td>0</td>\n    </tr>\n    <tr>\n      <th>12292</th>\n      <td>RI</td>\n      <td>4</td>\n      <td>9</td>\n    </tr>\n    <tr>\n      <th>12564</th>\n      <td>SD</td>\n      <td>0</td>\n      <td>9</td>\n    </tr>\n    <tr>\n      <th>12836</th>\n      <td>DC</td>\n      <td>0</td>\n      <td>3</td>\n    </tr>\n    <tr>\n      <th>13108</th>\n      <td>NH</td>\n      <td>0</td>\n      <td>6</td>\n    </tr>\n    <tr>\n      <th>13380</th>\n      <td>KS</td>\n      <td>1</td>\n      <td>7</td>\n    </tr>\n    <tr>\n      <th>13652</th>\n      <td>ME</td>\n      <td>4</td>\n      <td>5</td>\n    </tr>\n    <tr>\n      <th>13924</th>\n      <td>HI</td>\n      <td>0</td>\n      <td>2</td>\n    </tr>\n    <tr>\n      <th>14196</th>\n      <td>MT</td>\n      <td>0</td>\n      <td>1</td>\n    </tr>\n    <tr>\n      <th>14468</th>\n      <td>AK</td>\n      <td>0</td>\n      <td>1</td>\n    </tr>\n    <tr>\n      <th>14740</th>\n      <td>VT</td>\n      <td>1</td>\n      <td>3</td>\n    </tr>\n    <tr>\n      <th>15012</th>\n      <td>GU</td>\n      <td>0</td>\n      <td>0</td>\n    </tr>\n    <tr>\n      <th>15284</th>\n      <td>VI</td>\n      <td>0</td>\n      <td>0</td>\n    </tr>\n    <tr>\n      <th>15556</th>\n      <td>MP</td>\n      <td>0</td>\n      <td>0</td>\n    </tr>\n    <tr>\n      <th>15828</th>\n      <td>FSM</td>\n      <td>0</td>\n      <td>0</td>\n    </tr>\n    <tr>\n      <th>16100</th>\n      <td>PW</td>\n      <td>0</td>\n      <td>0</td>\n    </tr>\n  </tbody>\n</table>\n</div>"
     },
     "metadata": {},
     "execution_count": 79
    }
   ],
   "source": [
    "mar[['state', 'new_case', 'tot_cases']]"
   ]
  },
  {
   "cell_type": "code",
   "execution_count": 81,
   "metadata": {},
   "outputs": [
    {
     "output_type": "execute_result",
     "data": {
      "text/plain": [
       "      submission_date state tot_cases new_case tot_death new_death  \\\n",
       "253        2020-10-01    CO     71218    682.0      2054       3.0   \n",
       "525        2020-10-01    FL    700602   2551.0     14444     127.0   \n",
       "797        2020-10-01    AZ    219212    705.0      5674      24.0   \n",
       "1069       2020-10-01    SC    148323    381.0      3400      22.0   \n",
       "1341       2020-10-01    CT     57742    192.0      4511       3.0   \n",
       "1613       2020-10-01    NE     46185    621.0       493      15.0   \n",
       "1885       2020-10-01    KY     69728    888.0      1191      17.0   \n",
       "2157       2020-10-01    WY      6083    135.0        53       3.0   \n",
       "2429       2020-10-01    IA     90009   1179.0      1360      14.0   \n",
       "2701       2020-10-01    NM     29661    226.0       882       5.0   \n",
       "2973       2020-10-01    ND     22694    476.0       264       8.0   \n",
       "3245       2020-10-01    WA     88116    594.0      2132       6.0   \n",
       "3517       2020-10-01   RMI         0      0.0         0       0.0   \n",
       "3789       2020-10-01    TN    197432   1293.0      2501      47.0   \n",
       "4061       2020-10-01    AS         0      0.0         0       0.0   \n",
       "4333       2020-10-01    MA    140357    708.0      9473      23.0   \n",
       "4605       2020-10-01    PA    160123   1156.0      8160      18.0   \n",
       "4877       2020-10-01   NYC    246069    607.0     23846      17.0   \n",
       "5149       2020-10-01    OH    155314   1327.0      4817      13.0   \n",
       "5421       2020-10-01    AL    155744   1043.0      2548       8.0   \n",
       "5693       2020-10-01    VA    149687    966.0      3250      22.0   \n",
       "5965       2020-10-01    MI    139012    998.0      7102      19.0   \n",
       "6237       2020-10-01    MS     99558    672.0      2999      20.0   \n",
       "6509       2020-10-01    CA    813687   3062.0     15888      96.0   \n",
       "6781       2020-10-01    IL    297929   2166.0      8940      24.0   \n",
       "7053       2020-10-01    TX    752501   3534.0     15823     112.0   \n",
       "7325       2020-10-01    WI    132123   3000.0      1358      21.0   \n",
       "7597       2020-10-01    NJ    205889    614.0     16127       5.0   \n",
       "7869       2020-10-01    LA    168009    551.0      5519       8.0   \n",
       "8141       2020-10-01    PR     49747    680.0       673       8.0   \n",
       "8413       2020-10-01    NC    212909   2277.0      3579      47.0   \n",
       "8685       2020-10-01    OK     94619   1177.0      1041       4.0   \n",
       "8957       2020-10-01    NV     80515    430.0      1645       3.0   \n",
       "9229       2020-10-01    GA    319334   1308.0      7063      42.0   \n",
       "9501       2020-10-01    ID     42561    513.0       472       3.0   \n",
       "9773       2020-10-01    NY    215457    849.0      9046       5.0   \n",
       "10045      2020-10-01    MD    126222    712.0      3950       1.0   \n",
       "10317      2020-10-01    IN    121176   1157.0      3645      13.0   \n",
       "10589      2020-10-01    AR     84821   1124.0      1384      15.0   \n",
       "10861      2020-10-01    OR     33862    353.0       560       1.0   \n",
       "11133      2020-10-01    UT     74050   1008.0       459       0.0   \n",
       "11405      2020-10-01    MO    127912   1799.0      2128      10.0   \n",
       "11677      2020-10-01    MN    100200   1066.0      2102      13.0   \n",
       "11949      2020-10-01    DE     20937    324.0       642       6.0   \n",
       "12221      2020-10-01    WV     16024    176.0       354       4.0   \n",
       "12493      2020-10-01    RI     24914    166.0      1117       3.0   \n",
       "12765      2020-10-01    SD     23136    747.0       236      13.0   \n",
       "13037      2020-10-01    DC     15358     32.0       628       1.0   \n",
       "13309      2020-10-01    NH      8317     51.0       441       2.0   \n",
       "13581      2020-10-01    KS     59749      0.0       678       0.0   \n",
       "13853      2020-10-01    ME      5468     37.0       142       0.0   \n",
       "14125      2020-10-01    HI     12694    105.0       139       3.0   \n",
       "14397      2020-10-01    MT     13824    431.0       183       2.0   \n",
       "14669      2020-10-01    AK      7948    124.0        57       1.0   \n",
       "14941      2020-10-01    VT      1755      0.0        58       0.0   \n",
       "15213      2020-10-01    GU      2550     62.0        49       0.0   \n",
       "15485      2020-10-01    VI      1326      8.0        20       0.0   \n",
       "15757      2020-10-01    MP        73      3.0         2       0.0   \n",
       "16029      2020-10-01   FSM         0      0.0         0       0.0   \n",
       "16301      2020-10-01    PW         0      0.0         0       0.0   \n",
       "\n",
       "                    created_at consent_cases consent_deaths conf_cases  \\\n",
       "253    2020-10-02T13:40:08.052         Agree          Agree    66242.0   \n",
       "525    2020-10-02T13:40:08.052     Not agree      Not agree        NaN   \n",
       "797    2020-10-02T13:40:08.052         Agree          Agree   214608.0   \n",
       "1069   2020-10-02T13:40:08.052         Agree          Agree   143787.0   \n",
       "1341   2020-10-02T13:40:08.052         Agree          Agree    55306.0   \n",
       "1613   2020-10-02T13:40:08.052     Not agree      Not agree        NaN   \n",
       "1885   2020-10-02T13:40:08.052         Agree          Agree    60875.0   \n",
       "2157   2020-10-02T13:40:08.052         Agree          Agree     5170.0   \n",
       "2429   2020-10-02T13:40:08.052     Not agree      Not agree        NaN   \n",
       "2701   2020-10-02T13:40:08.052           N/A      Not agree        NaN   \n",
       "2973   2020-10-02T13:40:08.052     Not agree      Not agree        NaN   \n",
       "3245   2020-10-02T13:40:08.052           N/A            N/A        NaN   \n",
       "3517   2020-10-02T13:40:08.052         Agree          Agree        0.0   \n",
       "3789   2020-10-02T13:40:08.052         Agree          Agree   189575.0   \n",
       "4061   2020-10-02T13:40:08.052           NaN            NaN        NaN   \n",
       "4333   2020-10-02T13:40:08.052         Agree          Agree   130461.0   \n",
       "4605   2020-10-02T13:40:08.052         Agree      Not agree   154822.0   \n",
       "4877   2020-10-02T13:40:08.052         Agree          Agree   240264.0   \n",
       "5149   2020-10-02T13:40:08.052         Agree          Agree   146438.0   \n",
       "5421   2020-10-02T13:40:08.052         Agree          Agree   138162.0   \n",
       "5693   2020-10-02T13:40:08.052         Agree          Agree   141850.0   \n",
       "5965   2020-10-02T13:40:08.052         Agree          Agree   125578.0   \n",
       "6237   2020-10-02T13:40:08.052         Agree          Agree    91498.0   \n",
       "6509   2020-10-02T13:40:08.052     Not agree      Not agree        NaN   \n",
       "6781   2020-10-02T13:40:08.052         Agree          Agree   295440.0   \n",
       "7053   2020-10-02T13:40:08.052     Not agree      Not agree        NaN   \n",
       "7325   2020-10-02T13:40:08.052         Agree          Agree   125161.0   \n",
       "7597   2020-10-02T13:40:08.052     Not agree          Agree        NaN   \n",
       "7869   2020-10-02T13:40:08.052     Not agree          Agree        NaN   \n",
       "8141   2020-10-02T13:40:08.052         Agree          Agree    24505.0   \n",
       "8413   2020-10-02T13:40:08.052         Agree          Agree   207789.0   \n",
       "8685   2020-10-02T13:40:08.052         Agree          Agree    84235.0   \n",
       "8957   2020-10-02T13:40:08.052           NaN            NaN        NaN   \n",
       "9229   2020-10-02T13:40:08.052     Not agree      Not agree        NaN   \n",
       "9501   2020-10-02T13:40:08.052         Agree          Agree    38584.0   \n",
       "9773   2020-10-02T13:40:08.052     Not agree      Not agree        NaN   \n",
       "10045  2020-10-02T13:40:08.052           N/A          Agree        NaN   \n",
       "10317  2020-10-02T13:40:08.052     Not agree          Agree        NaN   \n",
       "10589  2020-10-02T13:40:08.052     Not agree      Not agree        NaN   \n",
       "10861  2020-10-02T13:40:08.052         Agree          Agree    32201.0   \n",
       "11133  2020-10-02T13:40:08.052         Agree          Agree    74050.0   \n",
       "11405  2020-10-02T13:40:08.052     Not agree      Not agree        NaN   \n",
       "11677  2020-10-02T13:40:08.052           N/A          Agree        NaN   \n",
       "11949  2020-10-02T13:40:08.052         Agree          Agree    19839.0   \n",
       "12221  2020-10-02T13:40:08.052         Agree      Not agree    15559.0   \n",
       "12493  2020-10-02T13:40:08.052     Not agree            N/A        NaN   \n",
       "12765  2020-10-02T13:40:08.052           N/A          Agree        NaN   \n",
       "13037  2020-10-02T13:40:08.052           NaN            NaN        NaN   \n",
       "13309  2020-10-02T13:40:08.052     Not agree      Not agree        NaN   \n",
       "13581  2020-10-02T13:40:08.052         Agree            N/A    56621.0   \n",
       "13853  2020-10-02T13:40:08.052         Agree            N/A     4900.0   \n",
       "14125  2020-10-02T13:40:08.052     Not agree      Not agree        NaN   \n",
       "14397  2020-10-02T13:40:08.052         Agree          Agree    13824.0   \n",
       "14669  2020-10-02T13:40:08.052           N/A            N/A        NaN   \n",
       "14941  2020-10-02T13:40:08.052     Not agree      Not agree        NaN   \n",
       "15213  2020-10-02T13:40:08.052     Not agree      Not agree        NaN   \n",
       "15485  2020-10-02T13:40:08.052           NaN            NaN        NaN   \n",
       "15757  2020-10-02T13:40:08.052         Agree          Agree       73.0   \n",
       "16029  2020-10-02T13:40:08.052         Agree          Agree        0.0   \n",
       "16301  2020-10-02T13:40:08.052           NaN            NaN        NaN   \n",
       "\n",
       "      prob_cases pnew_case conf_death prob_death pnew_death  \n",
       "253         4976        18     1696.0        358          1  \n",
       "525          NaN       532        NaN        NaN          4  \n",
       "797         4604        31     5401.0        273          5  \n",
       "1069        4536       217     3203.0        197          5  \n",
       "1341        2436        15     3613.0        898          0  \n",
       "1613         NaN         0        NaN        NaN          0  \n",
       "1885        8853       231     1180.0         11          0  \n",
       "2157         913        11       53.0          0          0  \n",
       "2429         NaN       142        NaN        NaN          0  \n",
       "2701         NaN         0        NaN        NaN          0  \n",
       "2973         NaN         0        NaN        NaN          0  \n",
       "3245         NaN         0        NaN        NaN          0  \n",
       "3517           0         0        0.0          0          0  \n",
       "3789        7857       223     2399.0        102          4  \n",
       "4061         NaN         0        NaN        NaN          0  \n",
       "4333        9896         0     9265.0        208          0  \n",
       "4605        5301       258        NaN        NaN         14  \n",
       "4877        5805        28    19206.0       4640          3  \n",
       "5149        8876        80     4514.0        303          0  \n",
       "5421       17582       445     2405.0        143          2  \n",
       "5693        7837       106     3037.0        213          0  \n",
       "5965       13434       107     6781.0        321          0  \n",
       "6237        8060       154     2753.0        246          5  \n",
       "6509         NaN         0        NaN        NaN          0  \n",
       "6781        2489         0     8696.0        244          0  \n",
       "7053         NaN         0        NaN        NaN          0  \n",
       "7325        6962       113     1348.0         10          0  \n",
       "7597         NaN         0    14340.0       1787          0  \n",
       "7869         NaN         0     5329.0        190          0  \n",
       "8141       25242       351      500.0        173          0  \n",
       "8413        5120       191     3551.0         28          1  \n",
       "8685       10384       136     1023.0         18          1  \n",
       "8957         NaN         0        NaN        NaN          0  \n",
       "9229         NaN         0        NaN        NaN          0  \n",
       "9501        3977       115      433.0         39          1  \n",
       "9773         NaN         0        NaN        NaN          0  \n",
       "10045        NaN         0     3806.0        144          0  \n",
       "10317        NaN         0     3418.0        227          0  \n",
       "10589        NaN       203        NaN        NaN          0  \n",
       "10861       1661        48      545.0         15          1  \n",
       "11133          0         0      456.0          3          0  \n",
       "11405        NaN         0        NaN        NaN          0  \n",
       "11677        NaN         0     2049.0         53          0  \n",
       "11949       1098        25      562.0         80          3  \n",
       "12221        465        10        NaN        NaN          2  \n",
       "12493        NaN         0        NaN        NaN          0  \n",
       "12765        NaN         0      234.0          2          0  \n",
       "13037        NaN         0        NaN        NaN          0  \n",
       "13309        NaN         0        NaN        NaN          0  \n",
       "13581       3128         0        NaN        NaN          0  \n",
       "13853        568         2        NaN        NaN          0  \n",
       "14125        NaN         0        NaN        NaN          0  \n",
       "14397          0         0      183.0          0          0  \n",
       "14669        NaN         0        NaN        NaN          0  \n",
       "14941        NaN         0        NaN        NaN          0  \n",
       "15213        NaN         0        NaN        NaN          0  \n",
       "15485        NaN         0        NaN        NaN          0  \n",
       "15757          0         0        2.0          0          0  \n",
       "16029          0         0        0.0          0          0  \n",
       "16301        NaN         0        NaN        NaN          0  "
      ],
      "text/html": "<div>\n<style scoped>\n    .dataframe tbody tr th:only-of-type {\n        vertical-align: middle;\n    }\n\n    .dataframe tbody tr th {\n        vertical-align: top;\n    }\n\n    .dataframe thead th {\n        text-align: right;\n    }\n</style>\n<table border=\"1\" class=\"dataframe\">\n  <thead>\n    <tr style=\"text-align: right;\">\n      <th></th>\n      <th>submission_date</th>\n      <th>state</th>\n      <th>tot_cases</th>\n      <th>new_case</th>\n      <th>tot_death</th>\n      <th>new_death</th>\n      <th>created_at</th>\n      <th>consent_cases</th>\n      <th>consent_deaths</th>\n      <th>conf_cases</th>\n      <th>prob_cases</th>\n      <th>pnew_case</th>\n      <th>conf_death</th>\n      <th>prob_death</th>\n      <th>pnew_death</th>\n    </tr>\n  </thead>\n  <tbody>\n    <tr>\n      <th>253</th>\n      <td>2020-10-01</td>\n      <td>CO</td>\n      <td>71218</td>\n      <td>682.0</td>\n      <td>2054</td>\n      <td>3.0</td>\n      <td>2020-10-02T13:40:08.052</td>\n      <td>Agree</td>\n      <td>Agree</td>\n      <td>66242.0</td>\n      <td>4976</td>\n      <td>18</td>\n      <td>1696.0</td>\n      <td>358</td>\n      <td>1</td>\n    </tr>\n    <tr>\n      <th>525</th>\n      <td>2020-10-01</td>\n      <td>FL</td>\n      <td>700602</td>\n      <td>2551.0</td>\n      <td>14444</td>\n      <td>127.0</td>\n      <td>2020-10-02T13:40:08.052</td>\n      <td>Not agree</td>\n      <td>Not agree</td>\n      <td>NaN</td>\n      <td>NaN</td>\n      <td>532</td>\n      <td>NaN</td>\n      <td>NaN</td>\n      <td>4</td>\n    </tr>\n    <tr>\n      <th>797</th>\n      <td>2020-10-01</td>\n      <td>AZ</td>\n      <td>219212</td>\n      <td>705.0</td>\n      <td>5674</td>\n      <td>24.0</td>\n      <td>2020-10-02T13:40:08.052</td>\n      <td>Agree</td>\n      <td>Agree</td>\n      <td>214608.0</td>\n      <td>4604</td>\n      <td>31</td>\n      <td>5401.0</td>\n      <td>273</td>\n      <td>5</td>\n    </tr>\n    <tr>\n      <th>1069</th>\n      <td>2020-10-01</td>\n      <td>SC</td>\n      <td>148323</td>\n      <td>381.0</td>\n      <td>3400</td>\n      <td>22.0</td>\n      <td>2020-10-02T13:40:08.052</td>\n      <td>Agree</td>\n      <td>Agree</td>\n      <td>143787.0</td>\n      <td>4536</td>\n      <td>217</td>\n      <td>3203.0</td>\n      <td>197</td>\n      <td>5</td>\n    </tr>\n    <tr>\n      <th>1341</th>\n      <td>2020-10-01</td>\n      <td>CT</td>\n      <td>57742</td>\n      <td>192.0</td>\n      <td>4511</td>\n      <td>3.0</td>\n      <td>2020-10-02T13:40:08.052</td>\n      <td>Agree</td>\n      <td>Agree</td>\n      <td>55306.0</td>\n      <td>2436</td>\n      <td>15</td>\n      <td>3613.0</td>\n      <td>898</td>\n      <td>0</td>\n    </tr>\n    <tr>\n      <th>1613</th>\n      <td>2020-10-01</td>\n      <td>NE</td>\n      <td>46185</td>\n      <td>621.0</td>\n      <td>493</td>\n      <td>15.0</td>\n      <td>2020-10-02T13:40:08.052</td>\n      <td>Not agree</td>\n      <td>Not agree</td>\n      <td>NaN</td>\n      <td>NaN</td>\n      <td>0</td>\n      <td>NaN</td>\n      <td>NaN</td>\n      <td>0</td>\n    </tr>\n    <tr>\n      <th>1885</th>\n      <td>2020-10-01</td>\n      <td>KY</td>\n      <td>69728</td>\n      <td>888.0</td>\n      <td>1191</td>\n      <td>17.0</td>\n      <td>2020-10-02T13:40:08.052</td>\n      <td>Agree</td>\n      <td>Agree</td>\n      <td>60875.0</td>\n      <td>8853</td>\n      <td>231</td>\n      <td>1180.0</td>\n      <td>11</td>\n      <td>0</td>\n    </tr>\n    <tr>\n      <th>2157</th>\n      <td>2020-10-01</td>\n      <td>WY</td>\n      <td>6083</td>\n      <td>135.0</td>\n      <td>53</td>\n      <td>3.0</td>\n      <td>2020-10-02T13:40:08.052</td>\n      <td>Agree</td>\n      <td>Agree</td>\n      <td>5170.0</td>\n      <td>913</td>\n      <td>11</td>\n      <td>53.0</td>\n      <td>0</td>\n      <td>0</td>\n    </tr>\n    <tr>\n      <th>2429</th>\n      <td>2020-10-01</td>\n      <td>IA</td>\n      <td>90009</td>\n      <td>1179.0</td>\n      <td>1360</td>\n      <td>14.0</td>\n      <td>2020-10-02T13:40:08.052</td>\n      <td>Not agree</td>\n      <td>Not agree</td>\n      <td>NaN</td>\n      <td>NaN</td>\n      <td>142</td>\n      <td>NaN</td>\n      <td>NaN</td>\n      <td>0</td>\n    </tr>\n    <tr>\n      <th>2701</th>\n      <td>2020-10-01</td>\n      <td>NM</td>\n      <td>29661</td>\n      <td>226.0</td>\n      <td>882</td>\n      <td>5.0</td>\n      <td>2020-10-02T13:40:08.052</td>\n      <td>N/A</td>\n      <td>Not agree</td>\n      <td>NaN</td>\n      <td>NaN</td>\n      <td>0</td>\n      <td>NaN</td>\n      <td>NaN</td>\n      <td>0</td>\n    </tr>\n    <tr>\n      <th>2973</th>\n      <td>2020-10-01</td>\n      <td>ND</td>\n      <td>22694</td>\n      <td>476.0</td>\n      <td>264</td>\n      <td>8.0</td>\n      <td>2020-10-02T13:40:08.052</td>\n      <td>Not agree</td>\n      <td>Not agree</td>\n      <td>NaN</td>\n      <td>NaN</td>\n      <td>0</td>\n      <td>NaN</td>\n      <td>NaN</td>\n      <td>0</td>\n    </tr>\n    <tr>\n      <th>3245</th>\n      <td>2020-10-01</td>\n      <td>WA</td>\n      <td>88116</td>\n      <td>594.0</td>\n      <td>2132</td>\n      <td>6.0</td>\n      <td>2020-10-02T13:40:08.052</td>\n      <td>N/A</td>\n      <td>N/A</td>\n      <td>NaN</td>\n      <td>NaN</td>\n      <td>0</td>\n      <td>NaN</td>\n      <td>NaN</td>\n      <td>0</td>\n    </tr>\n    <tr>\n      <th>3517</th>\n      <td>2020-10-01</td>\n      <td>RMI</td>\n      <td>0</td>\n      <td>0.0</td>\n      <td>0</td>\n      <td>0.0</td>\n      <td>2020-10-02T13:40:08.052</td>\n      <td>Agree</td>\n      <td>Agree</td>\n      <td>0.0</td>\n      <td>0</td>\n      <td>0</td>\n      <td>0.0</td>\n      <td>0</td>\n      <td>0</td>\n    </tr>\n    <tr>\n      <th>3789</th>\n      <td>2020-10-01</td>\n      <td>TN</td>\n      <td>197432</td>\n      <td>1293.0</td>\n      <td>2501</td>\n      <td>47.0</td>\n      <td>2020-10-02T13:40:08.052</td>\n      <td>Agree</td>\n      <td>Agree</td>\n      <td>189575.0</td>\n      <td>7857</td>\n      <td>223</td>\n      <td>2399.0</td>\n      <td>102</td>\n      <td>4</td>\n    </tr>\n    <tr>\n      <th>4061</th>\n      <td>2020-10-01</td>\n      <td>AS</td>\n      <td>0</td>\n      <td>0.0</td>\n      <td>0</td>\n      <td>0.0</td>\n      <td>2020-10-02T13:40:08.052</td>\n      <td>NaN</td>\n      <td>NaN</td>\n      <td>NaN</td>\n      <td>NaN</td>\n      <td>0</td>\n      <td>NaN</td>\n      <td>NaN</td>\n      <td>0</td>\n    </tr>\n    <tr>\n      <th>4333</th>\n      <td>2020-10-01</td>\n      <td>MA</td>\n      <td>140357</td>\n      <td>708.0</td>\n      <td>9473</td>\n      <td>23.0</td>\n      <td>2020-10-02T13:40:08.052</td>\n      <td>Agree</td>\n      <td>Agree</td>\n      <td>130461.0</td>\n      <td>9896</td>\n      <td>0</td>\n      <td>9265.0</td>\n      <td>208</td>\n      <td>0</td>\n    </tr>\n    <tr>\n      <th>4605</th>\n      <td>2020-10-01</td>\n      <td>PA</td>\n      <td>160123</td>\n      <td>1156.0</td>\n      <td>8160</td>\n      <td>18.0</td>\n      <td>2020-10-02T13:40:08.052</td>\n      <td>Agree</td>\n      <td>Not agree</td>\n      <td>154822.0</td>\n      <td>5301</td>\n      <td>258</td>\n      <td>NaN</td>\n      <td>NaN</td>\n      <td>14</td>\n    </tr>\n    <tr>\n      <th>4877</th>\n      <td>2020-10-01</td>\n      <td>NYC</td>\n      <td>246069</td>\n      <td>607.0</td>\n      <td>23846</td>\n      <td>17.0</td>\n      <td>2020-10-02T13:40:08.052</td>\n      <td>Agree</td>\n      <td>Agree</td>\n      <td>240264.0</td>\n      <td>5805</td>\n      <td>28</td>\n      <td>19206.0</td>\n      <td>4640</td>\n      <td>3</td>\n    </tr>\n    <tr>\n      <th>5149</th>\n      <td>2020-10-01</td>\n      <td>OH</td>\n      <td>155314</td>\n      <td>1327.0</td>\n      <td>4817</td>\n      <td>13.0</td>\n      <td>2020-10-02T13:40:08.052</td>\n      <td>Agree</td>\n      <td>Agree</td>\n      <td>146438.0</td>\n      <td>8876</td>\n      <td>80</td>\n      <td>4514.0</td>\n      <td>303</td>\n      <td>0</td>\n    </tr>\n    <tr>\n      <th>5421</th>\n      <td>2020-10-01</td>\n      <td>AL</td>\n      <td>155744</td>\n      <td>1043.0</td>\n      <td>2548</td>\n      <td>8.0</td>\n      <td>2020-10-02T13:40:08.052</td>\n      <td>Agree</td>\n      <td>Agree</td>\n      <td>138162.0</td>\n      <td>17582</td>\n      <td>445</td>\n      <td>2405.0</td>\n      <td>143</td>\n      <td>2</td>\n    </tr>\n    <tr>\n      <th>5693</th>\n      <td>2020-10-01</td>\n      <td>VA</td>\n      <td>149687</td>\n      <td>966.0</td>\n      <td>3250</td>\n      <td>22.0</td>\n      <td>2020-10-02T13:40:08.052</td>\n      <td>Agree</td>\n      <td>Agree</td>\n      <td>141850.0</td>\n      <td>7837</td>\n      <td>106</td>\n      <td>3037.0</td>\n      <td>213</td>\n      <td>0</td>\n    </tr>\n    <tr>\n      <th>5965</th>\n      <td>2020-10-01</td>\n      <td>MI</td>\n      <td>139012</td>\n      <td>998.0</td>\n      <td>7102</td>\n      <td>19.0</td>\n      <td>2020-10-02T13:40:08.052</td>\n      <td>Agree</td>\n      <td>Agree</td>\n      <td>125578.0</td>\n      <td>13434</td>\n      <td>107</td>\n      <td>6781.0</td>\n      <td>321</td>\n      <td>0</td>\n    </tr>\n    <tr>\n      <th>6237</th>\n      <td>2020-10-01</td>\n      <td>MS</td>\n      <td>99558</td>\n      <td>672.0</td>\n      <td>2999</td>\n      <td>20.0</td>\n      <td>2020-10-02T13:40:08.052</td>\n      <td>Agree</td>\n      <td>Agree</td>\n      <td>91498.0</td>\n      <td>8060</td>\n      <td>154</td>\n      <td>2753.0</td>\n      <td>246</td>\n      <td>5</td>\n    </tr>\n    <tr>\n      <th>6509</th>\n      <td>2020-10-01</td>\n      <td>CA</td>\n      <td>813687</td>\n      <td>3062.0</td>\n      <td>15888</td>\n      <td>96.0</td>\n      <td>2020-10-02T13:40:08.052</td>\n      <td>Not agree</td>\n      <td>Not agree</td>\n      <td>NaN</td>\n      <td>NaN</td>\n      <td>0</td>\n      <td>NaN</td>\n      <td>NaN</td>\n      <td>0</td>\n    </tr>\n    <tr>\n      <th>6781</th>\n      <td>2020-10-01</td>\n      <td>IL</td>\n      <td>297929</td>\n      <td>2166.0</td>\n      <td>8940</td>\n      <td>24.0</td>\n      <td>2020-10-02T13:40:08.052</td>\n      <td>Agree</td>\n      <td>Agree</td>\n      <td>295440.0</td>\n      <td>2489</td>\n      <td>0</td>\n      <td>8696.0</td>\n      <td>244</td>\n      <td>0</td>\n    </tr>\n    <tr>\n      <th>7053</th>\n      <td>2020-10-01</td>\n      <td>TX</td>\n      <td>752501</td>\n      <td>3534.0</td>\n      <td>15823</td>\n      <td>112.0</td>\n      <td>2020-10-02T13:40:08.052</td>\n      <td>Not agree</td>\n      <td>Not agree</td>\n      <td>NaN</td>\n      <td>NaN</td>\n      <td>0</td>\n      <td>NaN</td>\n      <td>NaN</td>\n      <td>0</td>\n    </tr>\n    <tr>\n      <th>7325</th>\n      <td>2020-10-01</td>\n      <td>WI</td>\n      <td>132123</td>\n      <td>3000.0</td>\n      <td>1358</td>\n      <td>21.0</td>\n      <td>2020-10-02T13:40:08.052</td>\n      <td>Agree</td>\n      <td>Agree</td>\n      <td>125161.0</td>\n      <td>6962</td>\n      <td>113</td>\n      <td>1348.0</td>\n      <td>10</td>\n      <td>0</td>\n    </tr>\n    <tr>\n      <th>7597</th>\n      <td>2020-10-01</td>\n      <td>NJ</td>\n      <td>205889</td>\n      <td>614.0</td>\n      <td>16127</td>\n      <td>5.0</td>\n      <td>2020-10-02T13:40:08.052</td>\n      <td>Not agree</td>\n      <td>Agree</td>\n      <td>NaN</td>\n      <td>NaN</td>\n      <td>0</td>\n      <td>14340.0</td>\n      <td>1787</td>\n      <td>0</td>\n    </tr>\n    <tr>\n      <th>7869</th>\n      <td>2020-10-01</td>\n      <td>LA</td>\n      <td>168009</td>\n      <td>551.0</td>\n      <td>5519</td>\n      <td>8.0</td>\n      <td>2020-10-02T13:40:08.052</td>\n      <td>Not agree</td>\n      <td>Agree</td>\n      <td>NaN</td>\n      <td>NaN</td>\n      <td>0</td>\n      <td>5329.0</td>\n      <td>190</td>\n      <td>0</td>\n    </tr>\n    <tr>\n      <th>8141</th>\n      <td>2020-10-01</td>\n      <td>PR</td>\n      <td>49747</td>\n      <td>680.0</td>\n      <td>673</td>\n      <td>8.0</td>\n      <td>2020-10-02T13:40:08.052</td>\n      <td>Agree</td>\n      <td>Agree</td>\n      <td>24505.0</td>\n      <td>25242</td>\n      <td>351</td>\n      <td>500.0</td>\n      <td>173</td>\n      <td>0</td>\n    </tr>\n    <tr>\n      <th>8413</th>\n      <td>2020-10-01</td>\n      <td>NC</td>\n      <td>212909</td>\n      <td>2277.0</td>\n      <td>3579</td>\n      <td>47.0</td>\n      <td>2020-10-02T13:40:08.052</td>\n      <td>Agree</td>\n      <td>Agree</td>\n      <td>207789.0</td>\n      <td>5120</td>\n      <td>191</td>\n      <td>3551.0</td>\n      <td>28</td>\n      <td>1</td>\n    </tr>\n    <tr>\n      <th>8685</th>\n      <td>2020-10-01</td>\n      <td>OK</td>\n      <td>94619</td>\n      <td>1177.0</td>\n      <td>1041</td>\n      <td>4.0</td>\n      <td>2020-10-02T13:40:08.052</td>\n      <td>Agree</td>\n      <td>Agree</td>\n      <td>84235.0</td>\n      <td>10384</td>\n      <td>136</td>\n      <td>1023.0</td>\n      <td>18</td>\n      <td>1</td>\n    </tr>\n    <tr>\n      <th>8957</th>\n      <td>2020-10-01</td>\n      <td>NV</td>\n      <td>80515</td>\n      <td>430.0</td>\n      <td>1645</td>\n      <td>3.0</td>\n      <td>2020-10-02T13:40:08.052</td>\n      <td>NaN</td>\n      <td>NaN</td>\n      <td>NaN</td>\n      <td>NaN</td>\n      <td>0</td>\n      <td>NaN</td>\n      <td>NaN</td>\n      <td>0</td>\n    </tr>\n    <tr>\n      <th>9229</th>\n      <td>2020-10-01</td>\n      <td>GA</td>\n      <td>319334</td>\n      <td>1308.0</td>\n      <td>7063</td>\n      <td>42.0</td>\n      <td>2020-10-02T13:40:08.052</td>\n      <td>Not agree</td>\n      <td>Not agree</td>\n      <td>NaN</td>\n      <td>NaN</td>\n      <td>0</td>\n      <td>NaN</td>\n      <td>NaN</td>\n      <td>0</td>\n    </tr>\n    <tr>\n      <th>9501</th>\n      <td>2020-10-01</td>\n      <td>ID</td>\n      <td>42561</td>\n      <td>513.0</td>\n      <td>472</td>\n      <td>3.0</td>\n      <td>2020-10-02T13:40:08.052</td>\n      <td>Agree</td>\n      <td>Agree</td>\n      <td>38584.0</td>\n      <td>3977</td>\n      <td>115</td>\n      <td>433.0</td>\n      <td>39</td>\n      <td>1</td>\n    </tr>\n    <tr>\n      <th>9773</th>\n      <td>2020-10-01</td>\n      <td>NY</td>\n      <td>215457</td>\n      <td>849.0</td>\n      <td>9046</td>\n      <td>5.0</td>\n      <td>2020-10-02T13:40:08.052</td>\n      <td>Not agree</td>\n      <td>Not agree</td>\n      <td>NaN</td>\n      <td>NaN</td>\n      <td>0</td>\n      <td>NaN</td>\n      <td>NaN</td>\n      <td>0</td>\n    </tr>\n    <tr>\n      <th>10045</th>\n      <td>2020-10-01</td>\n      <td>MD</td>\n      <td>126222</td>\n      <td>712.0</td>\n      <td>3950</td>\n      <td>1.0</td>\n      <td>2020-10-02T13:40:08.052</td>\n      <td>N/A</td>\n      <td>Agree</td>\n      <td>NaN</td>\n      <td>NaN</td>\n      <td>0</td>\n      <td>3806.0</td>\n      <td>144</td>\n      <td>0</td>\n    </tr>\n    <tr>\n      <th>10317</th>\n      <td>2020-10-01</td>\n      <td>IN</td>\n      <td>121176</td>\n      <td>1157.0</td>\n      <td>3645</td>\n      <td>13.0</td>\n      <td>2020-10-02T13:40:08.052</td>\n      <td>Not agree</td>\n      <td>Agree</td>\n      <td>NaN</td>\n      <td>NaN</td>\n      <td>0</td>\n      <td>3418.0</td>\n      <td>227</td>\n      <td>0</td>\n    </tr>\n    <tr>\n      <th>10589</th>\n      <td>2020-10-01</td>\n      <td>AR</td>\n      <td>84821</td>\n      <td>1124.0</td>\n      <td>1384</td>\n      <td>15.0</td>\n      <td>2020-10-02T13:40:08.052</td>\n      <td>Not agree</td>\n      <td>Not agree</td>\n      <td>NaN</td>\n      <td>NaN</td>\n      <td>203</td>\n      <td>NaN</td>\n      <td>NaN</td>\n      <td>0</td>\n    </tr>\n    <tr>\n      <th>10861</th>\n      <td>2020-10-01</td>\n      <td>OR</td>\n      <td>33862</td>\n      <td>353.0</td>\n      <td>560</td>\n      <td>1.0</td>\n      <td>2020-10-02T13:40:08.052</td>\n      <td>Agree</td>\n      <td>Agree</td>\n      <td>32201.0</td>\n      <td>1661</td>\n      <td>48</td>\n      <td>545.0</td>\n      <td>15</td>\n      <td>1</td>\n    </tr>\n    <tr>\n      <th>11133</th>\n      <td>2020-10-01</td>\n      <td>UT</td>\n      <td>74050</td>\n      <td>1008.0</td>\n      <td>459</td>\n      <td>0.0</td>\n      <td>2020-10-02T13:40:08.052</td>\n      <td>Agree</td>\n      <td>Agree</td>\n      <td>74050.0</td>\n      <td>0</td>\n      <td>0</td>\n      <td>456.0</td>\n      <td>3</td>\n      <td>0</td>\n    </tr>\n    <tr>\n      <th>11405</th>\n      <td>2020-10-01</td>\n      <td>MO</td>\n      <td>127912</td>\n      <td>1799.0</td>\n      <td>2128</td>\n      <td>10.0</td>\n      <td>2020-10-02T13:40:08.052</td>\n      <td>Not agree</td>\n      <td>Not agree</td>\n      <td>NaN</td>\n      <td>NaN</td>\n      <td>0</td>\n      <td>NaN</td>\n      <td>NaN</td>\n      <td>0</td>\n    </tr>\n    <tr>\n      <th>11677</th>\n      <td>2020-10-01</td>\n      <td>MN</td>\n      <td>100200</td>\n      <td>1066.0</td>\n      <td>2102</td>\n      <td>13.0</td>\n      <td>2020-10-02T13:40:08.052</td>\n      <td>N/A</td>\n      <td>Agree</td>\n      <td>NaN</td>\n      <td>NaN</td>\n      <td>0</td>\n      <td>2049.0</td>\n      <td>53</td>\n      <td>0</td>\n    </tr>\n    <tr>\n      <th>11949</th>\n      <td>2020-10-01</td>\n      <td>DE</td>\n      <td>20937</td>\n      <td>324.0</td>\n      <td>642</td>\n      <td>6.0</td>\n      <td>2020-10-02T13:40:08.052</td>\n      <td>Agree</td>\n      <td>Agree</td>\n      <td>19839.0</td>\n      <td>1098</td>\n      <td>25</td>\n      <td>562.0</td>\n      <td>80</td>\n      <td>3</td>\n    </tr>\n    <tr>\n      <th>12221</th>\n      <td>2020-10-01</td>\n      <td>WV</td>\n      <td>16024</td>\n      <td>176.0</td>\n      <td>354</td>\n      <td>4.0</td>\n      <td>2020-10-02T13:40:08.052</td>\n      <td>Agree</td>\n      <td>Not agree</td>\n      <td>15559.0</td>\n      <td>465</td>\n      <td>10</td>\n      <td>NaN</td>\n      <td>NaN</td>\n      <td>2</td>\n    </tr>\n    <tr>\n      <th>12493</th>\n      <td>2020-10-01</td>\n      <td>RI</td>\n      <td>24914</td>\n      <td>166.0</td>\n      <td>1117</td>\n      <td>3.0</td>\n      <td>2020-10-02T13:40:08.052</td>\n      <td>Not agree</td>\n      <td>N/A</td>\n      <td>NaN</td>\n      <td>NaN</td>\n      <td>0</td>\n      <td>NaN</td>\n      <td>NaN</td>\n      <td>0</td>\n    </tr>\n    <tr>\n      <th>12765</th>\n      <td>2020-10-01</td>\n      <td>SD</td>\n      <td>23136</td>\n      <td>747.0</td>\n      <td>236</td>\n      <td>13.0</td>\n      <td>2020-10-02T13:40:08.052</td>\n      <td>N/A</td>\n      <td>Agree</td>\n      <td>NaN</td>\n      <td>NaN</td>\n      <td>0</td>\n      <td>234.0</td>\n      <td>2</td>\n      <td>0</td>\n    </tr>\n    <tr>\n      <th>13037</th>\n      <td>2020-10-01</td>\n      <td>DC</td>\n      <td>15358</td>\n      <td>32.0</td>\n      <td>628</td>\n      <td>1.0</td>\n      <td>2020-10-02T13:40:08.052</td>\n      <td>NaN</td>\n      <td>NaN</td>\n      <td>NaN</td>\n      <td>NaN</td>\n      <td>0</td>\n      <td>NaN</td>\n      <td>NaN</td>\n      <td>0</td>\n    </tr>\n    <tr>\n      <th>13309</th>\n      <td>2020-10-01</td>\n      <td>NH</td>\n      <td>8317</td>\n      <td>51.0</td>\n      <td>441</td>\n      <td>2.0</td>\n      <td>2020-10-02T13:40:08.052</td>\n      <td>Not agree</td>\n      <td>Not agree</td>\n      <td>NaN</td>\n      <td>NaN</td>\n      <td>0</td>\n      <td>NaN</td>\n      <td>NaN</td>\n      <td>0</td>\n    </tr>\n    <tr>\n      <th>13581</th>\n      <td>2020-10-01</td>\n      <td>KS</td>\n      <td>59749</td>\n      <td>0.0</td>\n      <td>678</td>\n      <td>0.0</td>\n      <td>2020-10-02T13:40:08.052</td>\n      <td>Agree</td>\n      <td>N/A</td>\n      <td>56621.0</td>\n      <td>3128</td>\n      <td>0</td>\n      <td>NaN</td>\n      <td>NaN</td>\n      <td>0</td>\n    </tr>\n    <tr>\n      <th>13853</th>\n      <td>2020-10-01</td>\n      <td>ME</td>\n      <td>5468</td>\n      <td>37.0</td>\n      <td>142</td>\n      <td>0.0</td>\n      <td>2020-10-02T13:40:08.052</td>\n      <td>Agree</td>\n      <td>N/A</td>\n      <td>4900.0</td>\n      <td>568</td>\n      <td>2</td>\n      <td>NaN</td>\n      <td>NaN</td>\n      <td>0</td>\n    </tr>\n    <tr>\n      <th>14125</th>\n      <td>2020-10-01</td>\n      <td>HI</td>\n      <td>12694</td>\n      <td>105.0</td>\n      <td>139</td>\n      <td>3.0</td>\n      <td>2020-10-02T13:40:08.052</td>\n      <td>Not agree</td>\n      <td>Not agree</td>\n      <td>NaN</td>\n      <td>NaN</td>\n      <td>0</td>\n      <td>NaN</td>\n      <td>NaN</td>\n      <td>0</td>\n    </tr>\n    <tr>\n      <th>14397</th>\n      <td>2020-10-01</td>\n      <td>MT</td>\n      <td>13824</td>\n      <td>431.0</td>\n      <td>183</td>\n      <td>2.0</td>\n      <td>2020-10-02T13:40:08.052</td>\n      <td>Agree</td>\n      <td>Agree</td>\n      <td>13824.0</td>\n      <td>0</td>\n      <td>0</td>\n      <td>183.0</td>\n      <td>0</td>\n      <td>0</td>\n    </tr>\n    <tr>\n      <th>14669</th>\n      <td>2020-10-01</td>\n      <td>AK</td>\n      <td>7948</td>\n      <td>124.0</td>\n      <td>57</td>\n      <td>1.0</td>\n      <td>2020-10-02T13:40:08.052</td>\n      <td>N/A</td>\n      <td>N/A</td>\n      <td>NaN</td>\n      <td>NaN</td>\n      <td>0</td>\n      <td>NaN</td>\n      <td>NaN</td>\n      <td>0</td>\n    </tr>\n    <tr>\n      <th>14941</th>\n      <td>2020-10-01</td>\n      <td>VT</td>\n      <td>1755</td>\n      <td>0.0</td>\n      <td>58</td>\n      <td>0.0</td>\n      <td>2020-10-02T13:40:08.052</td>\n      <td>Not agree</td>\n      <td>Not agree</td>\n      <td>NaN</td>\n      <td>NaN</td>\n      <td>0</td>\n      <td>NaN</td>\n      <td>NaN</td>\n      <td>0</td>\n    </tr>\n    <tr>\n      <th>15213</th>\n      <td>2020-10-01</td>\n      <td>GU</td>\n      <td>2550</td>\n      <td>62.0</td>\n      <td>49</td>\n      <td>0.0</td>\n      <td>2020-10-02T13:40:08.052</td>\n      <td>Not agree</td>\n      <td>Not agree</td>\n      <td>NaN</td>\n      <td>NaN</td>\n      <td>0</td>\n      <td>NaN</td>\n      <td>NaN</td>\n      <td>0</td>\n    </tr>\n    <tr>\n      <th>15485</th>\n      <td>2020-10-01</td>\n      <td>VI</td>\n      <td>1326</td>\n      <td>8.0</td>\n      <td>20</td>\n      <td>0.0</td>\n      <td>2020-10-02T13:40:08.052</td>\n      <td>NaN</td>\n      <td>NaN</td>\n      <td>NaN</td>\n      <td>NaN</td>\n      <td>0</td>\n      <td>NaN</td>\n      <td>NaN</td>\n      <td>0</td>\n    </tr>\n    <tr>\n      <th>15757</th>\n      <td>2020-10-01</td>\n      <td>MP</td>\n      <td>73</td>\n      <td>3.0</td>\n      <td>2</td>\n      <td>0.0</td>\n      <td>2020-10-02T13:40:08.052</td>\n      <td>Agree</td>\n      <td>Agree</td>\n      <td>73.0</td>\n      <td>0</td>\n      <td>0</td>\n      <td>2.0</td>\n      <td>0</td>\n      <td>0</td>\n    </tr>\n    <tr>\n      <th>16029</th>\n      <td>2020-10-01</td>\n      <td>FSM</td>\n      <td>0</td>\n      <td>0.0</td>\n      <td>0</td>\n      <td>0.0</td>\n      <td>2020-10-02T13:40:08.052</td>\n      <td>Agree</td>\n      <td>Agree</td>\n      <td>0.0</td>\n      <td>0</td>\n      <td>0</td>\n      <td>0.0</td>\n      <td>0</td>\n      <td>0</td>\n    </tr>\n    <tr>\n      <th>16301</th>\n      <td>2020-10-01</td>\n      <td>PW</td>\n      <td>0</td>\n      <td>0.0</td>\n      <td>0</td>\n      <td>0.0</td>\n      <td>2020-10-02T13:40:08.052</td>\n      <td>NaN</td>\n      <td>NaN</td>\n      <td>NaN</td>\n      <td>NaN</td>\n      <td>0</td>\n      <td>NaN</td>\n      <td>NaN</td>\n      <td>0</td>\n    </tr>\n  </tbody>\n</table>\n</div>"
     },
     "metadata": {},
     "execution_count": 81
    }
   ],
   "source": [
    "df.query('submission_date == \"2020-10-01\"')"
   ]
  },
  {
   "cell_type": "code",
   "execution_count": 24,
   "metadata": {},
   "outputs": [
    {
     "output_type": "display_data",
     "data": {
      "application/vnd.plotly.v1+json": {
       "config": {
        "plotlyServerURL": "https://plot.ly"
       },
       "data": [
        {
         "colorbar": {
          "title": {
           "text": "Total Cases"
          }
         },
         "colorscale": [
          [
           0,
           "rgb(255,245,240)"
          ],
          [
           0.125,
           "rgb(254,224,210)"
          ],
          [
           0.25,
           "rgb(252,187,161)"
          ],
          [
           0.375,
           "rgb(252,146,114)"
          ],
          [
           0.5,
           "rgb(251,106,74)"
          ],
          [
           0.625,
           "rgb(239,59,44)"
          ],
          [
           0.75,
           "rgb(203,24,29)"
          ],
          [
           0.875,
           "rgb(165,15,21)"
          ],
          [
           1,
           "rgb(103,0,13)"
          ]
         ],
         "locationmode": "USA-states",
         "locations": [
          "CO",
          "FL",
          "AZ",
          "SC",
          "CT",
          "NE",
          "KY",
          "WY",
          "IA",
          "NM",
          "ND",
          "WA",
          "RMI",
          "TN",
          "AS",
          "MA",
          "PA",
          "NYC",
          "OH",
          "AL",
          "VA",
          "MI",
          "MS",
          "CA",
          "IL",
          "TX",
          "WI",
          "NJ",
          "LA",
          "PR",
          "NC",
          "OK",
          "NV",
          "GA",
          "ID",
          "NY",
          "MD",
          "IN",
          "AR",
          "OR",
          "UT",
          "MO",
          "MN",
          "DE",
          "WV",
          "RI",
          "SD",
          "DC",
          "NH",
          "KS",
          "ME",
          "HI",
          "MT",
          "AK",
          "VT",
          "GU",
          "VI",
          "MP",
          "FSM",
          "PW"
         ],
         "type": "choropleth",
         "z": [
          0,
          2726,
          636,
          1706,
          0,
          426,
          1274,
          151,
          939,
          296,
          416,
          609,
          0,
          1192,
          0,
          600,
          0,
          548,
          1157,
          1682,
          1067,
          1275,
          321,
          2159,
          2442,
          7006,
          3054,
          947,
          0,
          290,
          2202,
          1193,
          526,
          1444,
          464,
          1019,
          471,
          1419,
          746,
          348,
          1068,
          1708,
          2460,
          118,
          161,
          0,
          464,
          50,
          63,
          0,
          52,
          0,
          278,
          143,
          10,
          0,
          1,
          0,
          0,
          0
         ],
         "zmax": 7007,
         "zmin": 0.2
        }
       ],
       "layout": {
        "geo": {
         "scope": "usa"
        },
        "template": {
         "data": {
          "bar": [
           {
            "error_x": {
             "color": "#2a3f5f"
            },
            "error_y": {
             "color": "#2a3f5f"
            },
            "marker": {
             "line": {
              "color": "#E5ECF6",
              "width": 0.5
             }
            },
            "type": "bar"
           }
          ],
          "barpolar": [
           {
            "marker": {
             "line": {
              "color": "#E5ECF6",
              "width": 0.5
             }
            },
            "type": "barpolar"
           }
          ],
          "carpet": [
           {
            "aaxis": {
             "endlinecolor": "#2a3f5f",
             "gridcolor": "white",
             "linecolor": "white",
             "minorgridcolor": "white",
             "startlinecolor": "#2a3f5f"
            },
            "baxis": {
             "endlinecolor": "#2a3f5f",
             "gridcolor": "white",
             "linecolor": "white",
             "minorgridcolor": "white",
             "startlinecolor": "#2a3f5f"
            },
            "type": "carpet"
           }
          ],
          "choropleth": [
           {
            "colorbar": {
             "outlinewidth": 0,
             "ticks": ""
            },
            "type": "choropleth"
           }
          ],
          "contour": [
           {
            "colorbar": {
             "outlinewidth": 0,
             "ticks": ""
            },
            "colorscale": [
             [
              0,
              "#0d0887"
             ],
             [
              0.1111111111111111,
              "#46039f"
             ],
             [
              0.2222222222222222,
              "#7201a8"
             ],
             [
              0.3333333333333333,
              "#9c179e"
             ],
             [
              0.4444444444444444,
              "#bd3786"
             ],
             [
              0.5555555555555556,
              "#d8576b"
             ],
             [
              0.6666666666666666,
              "#ed7953"
             ],
             [
              0.7777777777777778,
              "#fb9f3a"
             ],
             [
              0.8888888888888888,
              "#fdca26"
             ],
             [
              1,
              "#f0f921"
             ]
            ],
            "type": "contour"
           }
          ],
          "contourcarpet": [
           {
            "colorbar": {
             "outlinewidth": 0,
             "ticks": ""
            },
            "type": "contourcarpet"
           }
          ],
          "heatmap": [
           {
            "colorbar": {
             "outlinewidth": 0,
             "ticks": ""
            },
            "colorscale": [
             [
              0,
              "#0d0887"
             ],
             [
              0.1111111111111111,
              "#46039f"
             ],
             [
              0.2222222222222222,
              "#7201a8"
             ],
             [
              0.3333333333333333,
              "#9c179e"
             ],
             [
              0.4444444444444444,
              "#bd3786"
             ],
             [
              0.5555555555555556,
              "#d8576b"
             ],
             [
              0.6666666666666666,
              "#ed7953"
             ],
             [
              0.7777777777777778,
              "#fb9f3a"
             ],
             [
              0.8888888888888888,
              "#fdca26"
             ],
             [
              1,
              "#f0f921"
             ]
            ],
            "type": "heatmap"
           }
          ],
          "heatmapgl": [
           {
            "colorbar": {
             "outlinewidth": 0,
             "ticks": ""
            },
            "colorscale": [
             [
              0,
              "#0d0887"
             ],
             [
              0.1111111111111111,
              "#46039f"
             ],
             [
              0.2222222222222222,
              "#7201a8"
             ],
             [
              0.3333333333333333,
              "#9c179e"
             ],
             [
              0.4444444444444444,
              "#bd3786"
             ],
             [
              0.5555555555555556,
              "#d8576b"
             ],
             [
              0.6666666666666666,
              "#ed7953"
             ],
             [
              0.7777777777777778,
              "#fb9f3a"
             ],
             [
              0.8888888888888888,
              "#fdca26"
             ],
             [
              1,
              "#f0f921"
             ]
            ],
            "type": "heatmapgl"
           }
          ],
          "histogram": [
           {
            "marker": {
             "colorbar": {
              "outlinewidth": 0,
              "ticks": ""
             }
            },
            "type": "histogram"
           }
          ],
          "histogram2d": [
           {
            "colorbar": {
             "outlinewidth": 0,
             "ticks": ""
            },
            "colorscale": [
             [
              0,
              "#0d0887"
             ],
             [
              0.1111111111111111,
              "#46039f"
             ],
             [
              0.2222222222222222,
              "#7201a8"
             ],
             [
              0.3333333333333333,
              "#9c179e"
             ],
             [
              0.4444444444444444,
              "#bd3786"
             ],
             [
              0.5555555555555556,
              "#d8576b"
             ],
             [
              0.6666666666666666,
              "#ed7953"
             ],
             [
              0.7777777777777778,
              "#fb9f3a"
             ],
             [
              0.8888888888888888,
              "#fdca26"
             ],
             [
              1,
              "#f0f921"
             ]
            ],
            "type": "histogram2d"
           }
          ],
          "histogram2dcontour": [
           {
            "colorbar": {
             "outlinewidth": 0,
             "ticks": ""
            },
            "colorscale": [
             [
              0,
              "#0d0887"
             ],
             [
              0.1111111111111111,
              "#46039f"
             ],
             [
              0.2222222222222222,
              "#7201a8"
             ],
             [
              0.3333333333333333,
              "#9c179e"
             ],
             [
              0.4444444444444444,
              "#bd3786"
             ],
             [
              0.5555555555555556,
              "#d8576b"
             ],
             [
              0.6666666666666666,
              "#ed7953"
             ],
             [
              0.7777777777777778,
              "#fb9f3a"
             ],
             [
              0.8888888888888888,
              "#fdca26"
             ],
             [
              1,
              "#f0f921"
             ]
            ],
            "type": "histogram2dcontour"
           }
          ],
          "mesh3d": [
           {
            "colorbar": {
             "outlinewidth": 0,
             "ticks": ""
            },
            "type": "mesh3d"
           }
          ],
          "parcoords": [
           {
            "line": {
             "colorbar": {
              "outlinewidth": 0,
              "ticks": ""
             }
            },
            "type": "parcoords"
           }
          ],
          "pie": [
           {
            "automargin": true,
            "type": "pie"
           }
          ],
          "scatter": [
           {
            "marker": {
             "colorbar": {
              "outlinewidth": 0,
              "ticks": ""
             }
            },
            "type": "scatter"
           }
          ],
          "scatter3d": [
           {
            "line": {
             "colorbar": {
              "outlinewidth": 0,
              "ticks": ""
             }
            },
            "marker": {
             "colorbar": {
              "outlinewidth": 0,
              "ticks": ""
             }
            },
            "type": "scatter3d"
           }
          ],
          "scattercarpet": [
           {
            "marker": {
             "colorbar": {
              "outlinewidth": 0,
              "ticks": ""
             }
            },
            "type": "scattercarpet"
           }
          ],
          "scattergeo": [
           {
            "marker": {
             "colorbar": {
              "outlinewidth": 0,
              "ticks": ""
             }
            },
            "type": "scattergeo"
           }
          ],
          "scattergl": [
           {
            "marker": {
             "colorbar": {
              "outlinewidth": 0,
              "ticks": ""
             }
            },
            "type": "scattergl"
           }
          ],
          "scattermapbox": [
           {
            "marker": {
             "colorbar": {
              "outlinewidth": 0,
              "ticks": ""
             }
            },
            "type": "scattermapbox"
           }
          ],
          "scatterpolar": [
           {
            "marker": {
             "colorbar": {
              "outlinewidth": 0,
              "ticks": ""
             }
            },
            "type": "scatterpolar"
           }
          ],
          "scatterpolargl": [
           {
            "marker": {
             "colorbar": {
              "outlinewidth": 0,
              "ticks": ""
             }
            },
            "type": "scatterpolargl"
           }
          ],
          "scatterternary": [
           {
            "marker": {
             "colorbar": {
              "outlinewidth": 0,
              "ticks": ""
             }
            },
            "type": "scatterternary"
           }
          ],
          "surface": [
           {
            "colorbar": {
             "outlinewidth": 0,
             "ticks": ""
            },
            "colorscale": [
             [
              0,
              "#0d0887"
             ],
             [
              0.1111111111111111,
              "#46039f"
             ],
             [
              0.2222222222222222,
              "#7201a8"
             ],
             [
              0.3333333333333333,
              "#9c179e"
             ],
             [
              0.4444444444444444,
              "#bd3786"
             ],
             [
              0.5555555555555556,
              "#d8576b"
             ],
             [
              0.6666666666666666,
              "#ed7953"
             ],
             [
              0.7777777777777778,
              "#fb9f3a"
             ],
             [
              0.8888888888888888,
              "#fdca26"
             ],
             [
              1,
              "#f0f921"
             ]
            ],
            "type": "surface"
           }
          ],
          "table": [
           {
            "cells": {
             "fill": {
              "color": "#EBF0F8"
             },
             "line": {
              "color": "white"
             }
            },
            "header": {
             "fill": {
              "color": "#C8D4E3"
             },
             "line": {
              "color": "white"
             }
            },
            "type": "table"
           }
          ]
         },
         "layout": {
          "annotationdefaults": {
           "arrowcolor": "#2a3f5f",
           "arrowhead": 0,
           "arrowwidth": 1
          },
          "coloraxis": {
           "colorbar": {
            "outlinewidth": 0,
            "ticks": ""
           }
          },
          "colorscale": {
           "diverging": [
            [
             0,
             "#8e0152"
            ],
            [
             0.1,
             "#c51b7d"
            ],
            [
             0.2,
             "#de77ae"
            ],
            [
             0.3,
             "#f1b6da"
            ],
            [
             0.4,
             "#fde0ef"
            ],
            [
             0.5,
             "#f7f7f7"
            ],
            [
             0.6,
             "#e6f5d0"
            ],
            [
             0.7,
             "#b8e186"
            ],
            [
             0.8,
             "#7fbc41"
            ],
            [
             0.9,
             "#4d9221"
            ],
            [
             1,
             "#276419"
            ]
           ],
           "sequential": [
            [
             0,
             "#0d0887"
            ],
            [
             0.1111111111111111,
             "#46039f"
            ],
            [
             0.2222222222222222,
             "#7201a8"
            ],
            [
             0.3333333333333333,
             "#9c179e"
            ],
            [
             0.4444444444444444,
             "#bd3786"
            ],
            [
             0.5555555555555556,
             "#d8576b"
            ],
            [
             0.6666666666666666,
             "#ed7953"
            ],
            [
             0.7777777777777778,
             "#fb9f3a"
            ],
            [
             0.8888888888888888,
             "#fdca26"
            ],
            [
             1,
             "#f0f921"
            ]
           ],
           "sequentialminus": [
            [
             0,
             "#0d0887"
            ],
            [
             0.1111111111111111,
             "#46039f"
            ],
            [
             0.2222222222222222,
             "#7201a8"
            ],
            [
             0.3333333333333333,
             "#9c179e"
            ],
            [
             0.4444444444444444,
             "#bd3786"
            ],
            [
             0.5555555555555556,
             "#d8576b"
            ],
            [
             0.6666666666666666,
             "#ed7953"
            ],
            [
             0.7777777777777778,
             "#fb9f3a"
            ],
            [
             0.8888888888888888,
             "#fdca26"
            ],
            [
             1,
             "#f0f921"
            ]
           ]
          },
          "colorway": [
           "#636efa",
           "#EF553B",
           "#00cc96",
           "#ab63fa",
           "#FFA15A",
           "#19d3f3",
           "#FF6692",
           "#B6E880",
           "#FF97FF",
           "#FECB52"
          ],
          "font": {
           "color": "#2a3f5f"
          },
          "geo": {
           "bgcolor": "white",
           "lakecolor": "white",
           "landcolor": "#E5ECF6",
           "showlakes": true,
           "showland": true,
           "subunitcolor": "white"
          },
          "hoverlabel": {
           "align": "left"
          },
          "hovermode": "closest",
          "mapbox": {
           "style": "light"
          },
          "paper_bgcolor": "white",
          "plot_bgcolor": "#E5ECF6",
          "polar": {
           "angularaxis": {
            "gridcolor": "white",
            "linecolor": "white",
            "ticks": ""
           },
           "bgcolor": "#E5ECF6",
           "radialaxis": {
            "gridcolor": "white",
            "linecolor": "white",
            "ticks": ""
           }
          },
          "scene": {
           "xaxis": {
            "backgroundcolor": "#E5ECF6",
            "gridcolor": "white",
            "gridwidth": 2,
            "linecolor": "white",
            "showbackground": true,
            "ticks": "",
            "zerolinecolor": "white"
           },
           "yaxis": {
            "backgroundcolor": "#E5ECF6",
            "gridcolor": "white",
            "gridwidth": 2,
            "linecolor": "white",
            "showbackground": true,
            "ticks": "",
            "zerolinecolor": "white"
           },
           "zaxis": {
            "backgroundcolor": "#E5ECF6",
            "gridcolor": "white",
            "gridwidth": 2,
            "linecolor": "white",
            "showbackground": true,
            "ticks": "",
            "zerolinecolor": "white"
           }
          },
          "shapedefaults": {
           "line": {
            "color": "#2a3f5f"
           }
          },
          "ternary": {
           "aaxis": {
            "gridcolor": "white",
            "linecolor": "white",
            "ticks": ""
           },
           "baxis": {
            "gridcolor": "white",
            "linecolor": "white",
            "ticks": ""
           },
           "bgcolor": "#E5ECF6",
           "caxis": {
            "gridcolor": "white",
            "linecolor": "white",
            "ticks": ""
           }
          },
          "title": {
           "x": 0.05
          },
          "xaxis": {
           "automargin": true,
           "gridcolor": "white",
           "linecolor": "white",
           "ticks": "",
           "title": {
            "standoff": 15
           },
           "zerolinecolor": "white",
           "zerolinewidth": 2
          },
          "yaxis": {
           "automargin": true,
           "gridcolor": "white",
           "linecolor": "white",
           "ticks": "",
           "title": {
            "standoff": 15
           },
           "zerolinecolor": "white",
           "zerolinewidth": 2
          }
         }
        },
        "title": {
         "text": "New COVID-19 Cases Oct 3, 2020",
         "x": 0.5
        }
       }
      }
     },
     "metadata": {}
    }
   ],
   "source": [
    "cases = df.query('submission_date == \"2020-10-03\"')\n",
    "fig = go.Figure(data=go.Choropleth(\n",
    "    locations=cases['state'],\n",
    "    z=cases['new_case'],\n",
    "    locationmode='USA-states',\n",
    "    colorscale='reds',\n",
    "    zmin=0,\n",
    "    zmax=cases['new_case'].max() + 1,\n",
    "    colorbar_title='Total Cases'\n",
    "    )\n",
    ")\n",
    "\n",
    "fig.update_layout(\n",
    "    title_text=f'New COVID-19 Cases Oct 3, 2020',\n",
    "    title_x=0.5,\n",
    "    geo_scope='usa',\n",
    ")\n",
    "fig.data[0].update(zmin=0.2)\n",
    "fig.show()"
   ]
  },
  {
   "cell_type": "code",
   "execution_count": 36,
   "metadata": {},
   "outputs": [
    {
     "output_type": "execute_result",
     "data": {
      "text/plain": [
       "      submission_date state  tot_cases  new_case tot_death new_death  \\\n",
       "6537       2020-01-31    IL          2         1         0       0.0   \n",
       "6265       2020-01-31    CA          3         1         0       0.0   \n",
       "9          2020-01-31    CO          0         0         0       0.0   \n",
       "11977      2020-01-31    WV          0         0         0       0.0   \n",
       "8985       2020-01-31    GA          0         0         0       0.0   \n",
       "9257       2020-01-31    ID          0         0         0       0.0   \n",
       "9529       2020-01-31    NY          0         0         0       0.0   \n",
       "9801       2020-01-31    MD          0         0         0       0.0   \n",
       "10073      2020-01-31    IN          0         0         0       0.0   \n",
       "10345      2020-01-31    AR          0         0         0       0.0   \n",
       "10617      2020-01-31    OR          0         0         0       0.0   \n",
       "10889      2020-01-31    UT          0         0         0       0.0   \n",
       "11161      2020-01-31    MO          0         0         0       0.0   \n",
       "11433      2020-01-31    MN          0         0         0       0.0   \n",
       "11705      2020-01-31    DE          0         0         0       0.0   \n",
       "12249      2020-01-31    RI          0         0         0       0.0   \n",
       "8441       2020-01-31    OK          0         0         0       0.0   \n",
       "12521      2020-01-31    SD          0         0         0       0.0   \n",
       "12793      2020-01-31    DC          0         0         0       0.0   \n",
       "13065      2020-01-31    NH          0         0         0       0.0   \n",
       "13337      2020-01-31    KS          0         0         0       0.0   \n",
       "13609      2020-01-31    ME          0         0         0       0.0   \n",
       "13881      2020-01-31    HI          0         0         0       0.0   \n",
       "14153      2020-01-31    MT          0         0         0       0.0   \n",
       "14425      2020-01-31    AK          0         0         0       0.0   \n",
       "14697      2020-01-31    VT          0         0         0       0.0   \n",
       "14969      2020-01-31    GU          0         0         0       0.0   \n",
       "15241      2020-01-31    VI          0         0         0       0.0   \n",
       "15513      2020-01-31    MP          0         0         0       0.0   \n",
       "15785      2020-01-31   FSM          0         0         0       0.0   \n",
       "8713       2020-01-31    NV          0         0         0       0.0   \n",
       "8169       2020-01-31    NC          0         0         0       0.0   \n",
       "281        2020-01-31    FL          0         0         0       0.0   \n",
       "7897       2020-01-31    PR          0         0         0       0.0   \n",
       "553        2020-01-31    AZ          1         0         0       0.0   \n",
       "825        2020-01-31    SC          0         0         0       0.0   \n",
       "1097       2020-01-31    CT          0         0         0       0.0   \n",
       "1369       2020-01-31    NE          0         0         0       0.0   \n",
       "1641       2020-01-31    KY          0         0         0       0.0   \n",
       "1913       2020-01-31    WY          0         0         0       0.0   \n",
       "2185       2020-01-31    IA          0         0         0       0.0   \n",
       "2457       2020-01-31    NM          0         0         0       0.0   \n",
       "2729       2020-01-31    ND          0         0         0       0.0   \n",
       "3001       2020-01-31    WA          1         0         0       0.0   \n",
       "3273       2020-01-31   RMI          0         0         0       0.0   \n",
       "3545       2020-01-31    TN          0         0         0       0.0   \n",
       "3817       2020-01-31    AS          0         0         0       0.0   \n",
       "4089       2020-01-31    MA          0         0         0       0.0   \n",
       "4361       2020-01-31    PA          0         0         0       0.0   \n",
       "4633       2020-01-31   NYC          0         0         0       0.0   \n",
       "4905       2020-01-31    OH          0         0         0       0.0   \n",
       "5177       2020-01-31    AL          0         0         0       0.0   \n",
       "5449       2020-01-31    VA          0         0         0       0.0   \n",
       "5721       2020-01-31    MI          0         0         0       0.0   \n",
       "5993       2020-01-31    MS          0         0         0       0.0   \n",
       "6809       2020-01-31    TX          0         0         0       0.0   \n",
       "7081       2020-01-31    WI          0         0         0       0.0   \n",
       "7353       2020-01-31    NJ          0         0         0       0.0   \n",
       "7625       2020-01-31    LA          0         0         0       0.0   \n",
       "16057      2020-01-31    PW          0         0         0       0.0   \n",
       "\n",
       "                    created_at consent_cases consent_deaths conf_cases  \\\n",
       "6537   2020-03-26T16:22:39.452         Agree          Agree        NaN   \n",
       "6265   2020-03-26T16:22:39.452     Not agree      Not agree        NaN   \n",
       "9      2020-03-26T16:22:39.452         Agree          Agree        NaN   \n",
       "11977  2020-03-26T16:22:39.452         Agree      Not agree        NaN   \n",
       "8985   2020-03-26T16:22:39.452     Not agree      Not agree        NaN   \n",
       "9257   2020-03-26T16:22:39.452         Agree          Agree        NaN   \n",
       "9529   2020-03-26T16:22:39.452     Not agree      Not agree        NaN   \n",
       "9801   2020-03-26T16:22:39.452           N/A          Agree        NaN   \n",
       "10073  2020-03-26T16:22:39.452     Not agree          Agree        NaN   \n",
       "10345  2020-03-26T16:22:39.452     Not agree      Not agree        NaN   \n",
       "10617  2020-03-26T16:22:39.452         Agree          Agree        NaN   \n",
       "10889  2020-03-26T16:22:39.452         Agree          Agree        NaN   \n",
       "11161  2020-03-26T16:22:39.452     Not agree      Not agree        NaN   \n",
       "11433  2020-03-26T16:22:39.452           N/A          Agree        NaN   \n",
       "11705  2020-03-26T16:22:39.452         Agree          Agree        NaN   \n",
       "12249  2020-03-26T16:22:39.452     Not agree            N/A        NaN   \n",
       "8441   2020-03-26T16:22:39.452         Agree          Agree        NaN   \n",
       "12521  2020-03-26T16:22:39.452           N/A          Agree        NaN   \n",
       "12793  2020-03-26T16:22:39.452           NaN            NaN        NaN   \n",
       "13065  2020-03-26T16:22:39.452     Not agree      Not agree        NaN   \n",
       "13337  2020-03-26T16:22:39.452         Agree            N/A        NaN   \n",
       "13609  2020-03-26T16:22:39.452         Agree            N/A        NaN   \n",
       "13881  2020-03-26T16:22:39.452     Not agree      Not agree        NaN   \n",
       "14153  2020-03-26T16:22:39.452         Agree          Agree        NaN   \n",
       "14425  2020-03-26T16:22:39.452           N/A            N/A        NaN   \n",
       "14697  2020-03-26T16:22:39.452     Not agree      Not agree        NaN   \n",
       "14969  2020-03-26T16:22:39.452     Not agree      Not agree        NaN   \n",
       "15241  2020-03-26T16:22:39.452           NaN            NaN        NaN   \n",
       "15513  2020-03-26T16:22:39.452         Agree          Agree        NaN   \n",
       "15785  2020-03-26T16:22:39.452         Agree          Agree        NaN   \n",
       "8713   2020-03-26T16:22:39.452           NaN            NaN        NaN   \n",
       "8169   2020-03-26T16:22:39.452         Agree          Agree        NaN   \n",
       "281    2020-03-26T16:22:39.452     Not agree      Not agree        NaN   \n",
       "7897   2020-03-26T16:22:39.452         Agree          Agree        NaN   \n",
       "553    2020-03-26T16:22:39.452         Agree          Agree        NaN   \n",
       "825    2020-03-26T16:22:39.452         Agree          Agree        NaN   \n",
       "1097   2020-03-26T16:22:39.452         Agree          Agree        NaN   \n",
       "1369   2020-03-26T16:22:39.452     Not agree      Not agree        NaN   \n",
       "1641   2020-03-26T16:22:39.452         Agree          Agree        NaN   \n",
       "1913   2020-03-26T16:22:39.452         Agree          Agree        NaN   \n",
       "2185   2020-03-26T16:22:39.452     Not agree      Not agree        NaN   \n",
       "2457   2020-03-26T16:22:39.452           N/A      Not agree        NaN   \n",
       "2729   2020-03-26T16:22:39.452     Not agree      Not agree        NaN   \n",
       "3001   2020-03-26T16:22:39.452           N/A            N/A        NaN   \n",
       "3273   2020-03-26T16:22:39.452         Agree          Agree        NaN   \n",
       "3545   2020-03-26T16:22:39.452         Agree          Agree        NaN   \n",
       "3817   2020-03-26T16:22:39.452           NaN            NaN        NaN   \n",
       "4089   2020-03-26T16:22:39.452         Agree          Agree        NaN   \n",
       "4361   2020-03-26T16:22:39.452         Agree      Not agree        NaN   \n",
       "4633   2020-03-26T16:22:39.452         Agree          Agree        NaN   \n",
       "4905   2020-03-26T16:22:39.452         Agree          Agree        NaN   \n",
       "5177   2020-03-26T16:22:39.452         Agree          Agree        NaN   \n",
       "5449   2020-03-26T16:22:39.452         Agree          Agree        NaN   \n",
       "5721   2020-03-26T16:22:39.452         Agree          Agree        NaN   \n",
       "5993   2020-03-26T16:22:39.452         Agree          Agree        NaN   \n",
       "6809   2020-03-26T16:22:39.452     Not agree      Not agree        NaN   \n",
       "7081   2020-03-26T16:22:39.452         Agree          Agree        NaN   \n",
       "7353   2020-03-26T16:22:39.452     Not agree          Agree        NaN   \n",
       "7625   2020-03-26T16:22:39.452     Not agree          Agree        NaN   \n",
       "16057  2020-03-26T16:22:39.452           NaN            NaN        NaN   \n",
       "\n",
       "      prob_cases pnew_case conf_death prob_death pnew_death  \n",
       "6537         NaN       NaN        NaN        NaN        NaN  \n",
       "6265         NaN       NaN        NaN        NaN        NaN  \n",
       "9            NaN       NaN        NaN        NaN        NaN  \n",
       "11977        NaN       NaN        NaN        NaN        NaN  \n",
       "8985         NaN       NaN        NaN        NaN        NaN  \n",
       "9257         NaN       NaN        NaN        NaN        NaN  \n",
       "9529         NaN       NaN        NaN        NaN        NaN  \n",
       "9801         NaN       NaN        NaN        NaN        NaN  \n",
       "10073        NaN       NaN        NaN        NaN        NaN  \n",
       "10345        NaN       NaN        NaN        NaN        NaN  \n",
       "10617        NaN       NaN        NaN        NaN        NaN  \n",
       "10889        NaN       NaN        NaN        NaN        NaN  \n",
       "11161        NaN       NaN        NaN        NaN        NaN  \n",
       "11433        NaN       NaN        NaN        NaN        NaN  \n",
       "11705        NaN       NaN        NaN        NaN        NaN  \n",
       "12249        NaN       NaN        NaN        NaN        NaN  \n",
       "8441         NaN       NaN        NaN        NaN        NaN  \n",
       "12521        NaN       NaN        NaN        NaN        NaN  \n",
       "12793        NaN       NaN        NaN        NaN        NaN  \n",
       "13065        NaN       NaN        NaN        NaN        NaN  \n",
       "13337        NaN       NaN        NaN        NaN        NaN  \n",
       "13609        NaN       NaN        NaN        NaN        NaN  \n",
       "13881        NaN       NaN        NaN        NaN        NaN  \n",
       "14153        NaN       NaN        NaN        NaN        NaN  \n",
       "14425        NaN       NaN        NaN        NaN        NaN  \n",
       "14697        NaN       NaN        NaN        NaN        NaN  \n",
       "14969        NaN       NaN        NaN        NaN        NaN  \n",
       "15241        NaN       NaN        NaN        NaN        NaN  \n",
       "15513        NaN       NaN        NaN        NaN        NaN  \n",
       "15785        NaN       NaN        NaN        NaN        NaN  \n",
       "8713         NaN       NaN        NaN        NaN        NaN  \n",
       "8169         NaN       NaN        NaN        NaN        NaN  \n",
       "281          NaN       NaN        NaN        NaN        NaN  \n",
       "7897         NaN       NaN        NaN        NaN        NaN  \n",
       "553          NaN       NaN        NaN        NaN        NaN  \n",
       "825          NaN       NaN        NaN        NaN        NaN  \n",
       "1097         NaN       NaN        NaN        NaN        NaN  \n",
       "1369         NaN       NaN        NaN        NaN        NaN  \n",
       "1641         NaN       NaN        NaN        NaN        NaN  \n",
       "1913         NaN       NaN        NaN        NaN        NaN  \n",
       "2185         NaN       NaN        NaN        NaN        NaN  \n",
       "2457         NaN       NaN        NaN        NaN        NaN  \n",
       "2729         NaN       NaN        NaN        NaN        NaN  \n",
       "3001         NaN       NaN        NaN        NaN        NaN  \n",
       "3273         NaN       NaN        NaN        NaN        NaN  \n",
       "3545         NaN       NaN        NaN        NaN        NaN  \n",
       "3817         NaN       NaN        NaN        NaN        NaN  \n",
       "4089         NaN       NaN        NaN        NaN        NaN  \n",
       "4361         NaN       NaN        NaN        NaN        NaN  \n",
       "4633         NaN       NaN        NaN        NaN        NaN  \n",
       "4905         NaN       NaN        NaN        NaN        NaN  \n",
       "5177         NaN       NaN        NaN        NaN        NaN  \n",
       "5449         NaN       NaN        NaN        NaN        NaN  \n",
       "5721         NaN       NaN        NaN        NaN        NaN  \n",
       "5993         NaN       NaN        NaN        NaN        NaN  \n",
       "6809         NaN       NaN        NaN        NaN        NaN  \n",
       "7081         NaN       NaN        NaN        NaN        NaN  \n",
       "7353         NaN       NaN        NaN        NaN        NaN  \n",
       "7625         NaN       NaN        NaN        NaN        NaN  \n",
       "16057        NaN       NaN        NaN        NaN        NaN  "
      ],
      "text/html": "<div>\n<style scoped>\n    .dataframe tbody tr th:only-of-type {\n        vertical-align: middle;\n    }\n\n    .dataframe tbody tr th {\n        vertical-align: top;\n    }\n\n    .dataframe thead th {\n        text-align: right;\n    }\n</style>\n<table border=\"1\" class=\"dataframe\">\n  <thead>\n    <tr style=\"text-align: right;\">\n      <th></th>\n      <th>submission_date</th>\n      <th>state</th>\n      <th>tot_cases</th>\n      <th>new_case</th>\n      <th>tot_death</th>\n      <th>new_death</th>\n      <th>created_at</th>\n      <th>consent_cases</th>\n      <th>consent_deaths</th>\n      <th>conf_cases</th>\n      <th>prob_cases</th>\n      <th>pnew_case</th>\n      <th>conf_death</th>\n      <th>prob_death</th>\n      <th>pnew_death</th>\n    </tr>\n  </thead>\n  <tbody>\n    <tr>\n      <th>6537</th>\n      <td>2020-01-31</td>\n      <td>IL</td>\n      <td>2</td>\n      <td>1</td>\n      <td>0</td>\n      <td>0.0</td>\n      <td>2020-03-26T16:22:39.452</td>\n      <td>Agree</td>\n      <td>Agree</td>\n      <td>NaN</td>\n      <td>NaN</td>\n      <td>NaN</td>\n      <td>NaN</td>\n      <td>NaN</td>\n      <td>NaN</td>\n    </tr>\n    <tr>\n      <th>6265</th>\n      <td>2020-01-31</td>\n      <td>CA</td>\n      <td>3</td>\n      <td>1</td>\n      <td>0</td>\n      <td>0.0</td>\n      <td>2020-03-26T16:22:39.452</td>\n      <td>Not agree</td>\n      <td>Not agree</td>\n      <td>NaN</td>\n      <td>NaN</td>\n      <td>NaN</td>\n      <td>NaN</td>\n      <td>NaN</td>\n      <td>NaN</td>\n    </tr>\n    <tr>\n      <th>9</th>\n      <td>2020-01-31</td>\n      <td>CO</td>\n      <td>0</td>\n      <td>0</td>\n      <td>0</td>\n      <td>0.0</td>\n      <td>2020-03-26T16:22:39.452</td>\n      <td>Agree</td>\n      <td>Agree</td>\n      <td>NaN</td>\n      <td>NaN</td>\n      <td>NaN</td>\n      <td>NaN</td>\n      <td>NaN</td>\n      <td>NaN</td>\n    </tr>\n    <tr>\n      <th>11977</th>\n      <td>2020-01-31</td>\n      <td>WV</td>\n      <td>0</td>\n      <td>0</td>\n      <td>0</td>\n      <td>0.0</td>\n      <td>2020-03-26T16:22:39.452</td>\n      <td>Agree</td>\n      <td>Not agree</td>\n      <td>NaN</td>\n      <td>NaN</td>\n      <td>NaN</td>\n      <td>NaN</td>\n      <td>NaN</td>\n      <td>NaN</td>\n    </tr>\n    <tr>\n      <th>8985</th>\n      <td>2020-01-31</td>\n      <td>GA</td>\n      <td>0</td>\n      <td>0</td>\n      <td>0</td>\n      <td>0.0</td>\n      <td>2020-03-26T16:22:39.452</td>\n      <td>Not agree</td>\n      <td>Not agree</td>\n      <td>NaN</td>\n      <td>NaN</td>\n      <td>NaN</td>\n      <td>NaN</td>\n      <td>NaN</td>\n      <td>NaN</td>\n    </tr>\n    <tr>\n      <th>9257</th>\n      <td>2020-01-31</td>\n      <td>ID</td>\n      <td>0</td>\n      <td>0</td>\n      <td>0</td>\n      <td>0.0</td>\n      <td>2020-03-26T16:22:39.452</td>\n      <td>Agree</td>\n      <td>Agree</td>\n      <td>NaN</td>\n      <td>NaN</td>\n      <td>NaN</td>\n      <td>NaN</td>\n      <td>NaN</td>\n      <td>NaN</td>\n    </tr>\n    <tr>\n      <th>9529</th>\n      <td>2020-01-31</td>\n      <td>NY</td>\n      <td>0</td>\n      <td>0</td>\n      <td>0</td>\n      <td>0.0</td>\n      <td>2020-03-26T16:22:39.452</td>\n      <td>Not agree</td>\n      <td>Not agree</td>\n      <td>NaN</td>\n      <td>NaN</td>\n      <td>NaN</td>\n      <td>NaN</td>\n      <td>NaN</td>\n      <td>NaN</td>\n    </tr>\n    <tr>\n      <th>9801</th>\n      <td>2020-01-31</td>\n      <td>MD</td>\n      <td>0</td>\n      <td>0</td>\n      <td>0</td>\n      <td>0.0</td>\n      <td>2020-03-26T16:22:39.452</td>\n      <td>N/A</td>\n      <td>Agree</td>\n      <td>NaN</td>\n      <td>NaN</td>\n      <td>NaN</td>\n      <td>NaN</td>\n      <td>NaN</td>\n      <td>NaN</td>\n    </tr>\n    <tr>\n      <th>10073</th>\n      <td>2020-01-31</td>\n      <td>IN</td>\n      <td>0</td>\n      <td>0</td>\n      <td>0</td>\n      <td>0.0</td>\n      <td>2020-03-26T16:22:39.452</td>\n      <td>Not agree</td>\n      <td>Agree</td>\n      <td>NaN</td>\n      <td>NaN</td>\n      <td>NaN</td>\n      <td>NaN</td>\n      <td>NaN</td>\n      <td>NaN</td>\n    </tr>\n    <tr>\n      <th>10345</th>\n      <td>2020-01-31</td>\n      <td>AR</td>\n      <td>0</td>\n      <td>0</td>\n      <td>0</td>\n      <td>0.0</td>\n      <td>2020-03-26T16:22:39.452</td>\n      <td>Not agree</td>\n      <td>Not agree</td>\n      <td>NaN</td>\n      <td>NaN</td>\n      <td>NaN</td>\n      <td>NaN</td>\n      <td>NaN</td>\n      <td>NaN</td>\n    </tr>\n    <tr>\n      <th>10617</th>\n      <td>2020-01-31</td>\n      <td>OR</td>\n      <td>0</td>\n      <td>0</td>\n      <td>0</td>\n      <td>0.0</td>\n      <td>2020-03-26T16:22:39.452</td>\n      <td>Agree</td>\n      <td>Agree</td>\n      <td>NaN</td>\n      <td>NaN</td>\n      <td>NaN</td>\n      <td>NaN</td>\n      <td>NaN</td>\n      <td>NaN</td>\n    </tr>\n    <tr>\n      <th>10889</th>\n      <td>2020-01-31</td>\n      <td>UT</td>\n      <td>0</td>\n      <td>0</td>\n      <td>0</td>\n      <td>0.0</td>\n      <td>2020-03-26T16:22:39.452</td>\n      <td>Agree</td>\n      <td>Agree</td>\n      <td>NaN</td>\n      <td>NaN</td>\n      <td>NaN</td>\n      <td>NaN</td>\n      <td>NaN</td>\n      <td>NaN</td>\n    </tr>\n    <tr>\n      <th>11161</th>\n      <td>2020-01-31</td>\n      <td>MO</td>\n      <td>0</td>\n      <td>0</td>\n      <td>0</td>\n      <td>0.0</td>\n      <td>2020-03-26T16:22:39.452</td>\n      <td>Not agree</td>\n      <td>Not agree</td>\n      <td>NaN</td>\n      <td>NaN</td>\n      <td>NaN</td>\n      <td>NaN</td>\n      <td>NaN</td>\n      <td>NaN</td>\n    </tr>\n    <tr>\n      <th>11433</th>\n      <td>2020-01-31</td>\n      <td>MN</td>\n      <td>0</td>\n      <td>0</td>\n      <td>0</td>\n      <td>0.0</td>\n      <td>2020-03-26T16:22:39.452</td>\n      <td>N/A</td>\n      <td>Agree</td>\n      <td>NaN</td>\n      <td>NaN</td>\n      <td>NaN</td>\n      <td>NaN</td>\n      <td>NaN</td>\n      <td>NaN</td>\n    </tr>\n    <tr>\n      <th>11705</th>\n      <td>2020-01-31</td>\n      <td>DE</td>\n      <td>0</td>\n      <td>0</td>\n      <td>0</td>\n      <td>0.0</td>\n      <td>2020-03-26T16:22:39.452</td>\n      <td>Agree</td>\n      <td>Agree</td>\n      <td>NaN</td>\n      <td>NaN</td>\n      <td>NaN</td>\n      <td>NaN</td>\n      <td>NaN</td>\n      <td>NaN</td>\n    </tr>\n    <tr>\n      <th>12249</th>\n      <td>2020-01-31</td>\n      <td>RI</td>\n      <td>0</td>\n      <td>0</td>\n      <td>0</td>\n      <td>0.0</td>\n      <td>2020-03-26T16:22:39.452</td>\n      <td>Not agree</td>\n      <td>N/A</td>\n      <td>NaN</td>\n      <td>NaN</td>\n      <td>NaN</td>\n      <td>NaN</td>\n      <td>NaN</td>\n      <td>NaN</td>\n    </tr>\n    <tr>\n      <th>8441</th>\n      <td>2020-01-31</td>\n      <td>OK</td>\n      <td>0</td>\n      <td>0</td>\n      <td>0</td>\n      <td>0.0</td>\n      <td>2020-03-26T16:22:39.452</td>\n      <td>Agree</td>\n      <td>Agree</td>\n      <td>NaN</td>\n      <td>NaN</td>\n      <td>NaN</td>\n      <td>NaN</td>\n      <td>NaN</td>\n      <td>NaN</td>\n    </tr>\n    <tr>\n      <th>12521</th>\n      <td>2020-01-31</td>\n      <td>SD</td>\n      <td>0</td>\n      <td>0</td>\n      <td>0</td>\n      <td>0.0</td>\n      <td>2020-03-26T16:22:39.452</td>\n      <td>N/A</td>\n      <td>Agree</td>\n      <td>NaN</td>\n      <td>NaN</td>\n      <td>NaN</td>\n      <td>NaN</td>\n      <td>NaN</td>\n      <td>NaN</td>\n    </tr>\n    <tr>\n      <th>12793</th>\n      <td>2020-01-31</td>\n      <td>DC</td>\n      <td>0</td>\n      <td>0</td>\n      <td>0</td>\n      <td>0.0</td>\n      <td>2020-03-26T16:22:39.452</td>\n      <td>NaN</td>\n      <td>NaN</td>\n      <td>NaN</td>\n      <td>NaN</td>\n      <td>NaN</td>\n      <td>NaN</td>\n      <td>NaN</td>\n      <td>NaN</td>\n    </tr>\n    <tr>\n      <th>13065</th>\n      <td>2020-01-31</td>\n      <td>NH</td>\n      <td>0</td>\n      <td>0</td>\n      <td>0</td>\n      <td>0.0</td>\n      <td>2020-03-26T16:22:39.452</td>\n      <td>Not agree</td>\n      <td>Not agree</td>\n      <td>NaN</td>\n      <td>NaN</td>\n      <td>NaN</td>\n      <td>NaN</td>\n      <td>NaN</td>\n      <td>NaN</td>\n    </tr>\n    <tr>\n      <th>13337</th>\n      <td>2020-01-31</td>\n      <td>KS</td>\n      <td>0</td>\n      <td>0</td>\n      <td>0</td>\n      <td>0.0</td>\n      <td>2020-03-26T16:22:39.452</td>\n      <td>Agree</td>\n      <td>N/A</td>\n      <td>NaN</td>\n      <td>NaN</td>\n      <td>NaN</td>\n      <td>NaN</td>\n      <td>NaN</td>\n      <td>NaN</td>\n    </tr>\n    <tr>\n      <th>13609</th>\n      <td>2020-01-31</td>\n      <td>ME</td>\n      <td>0</td>\n      <td>0</td>\n      <td>0</td>\n      <td>0.0</td>\n      <td>2020-03-26T16:22:39.452</td>\n      <td>Agree</td>\n      <td>N/A</td>\n      <td>NaN</td>\n      <td>NaN</td>\n      <td>NaN</td>\n      <td>NaN</td>\n      <td>NaN</td>\n      <td>NaN</td>\n    </tr>\n    <tr>\n      <th>13881</th>\n      <td>2020-01-31</td>\n      <td>HI</td>\n      <td>0</td>\n      <td>0</td>\n      <td>0</td>\n      <td>0.0</td>\n      <td>2020-03-26T16:22:39.452</td>\n      <td>Not agree</td>\n      <td>Not agree</td>\n      <td>NaN</td>\n      <td>NaN</td>\n      <td>NaN</td>\n      <td>NaN</td>\n      <td>NaN</td>\n      <td>NaN</td>\n    </tr>\n    <tr>\n      <th>14153</th>\n      <td>2020-01-31</td>\n      <td>MT</td>\n      <td>0</td>\n      <td>0</td>\n      <td>0</td>\n      <td>0.0</td>\n      <td>2020-03-26T16:22:39.452</td>\n      <td>Agree</td>\n      <td>Agree</td>\n      <td>NaN</td>\n      <td>NaN</td>\n      <td>NaN</td>\n      <td>NaN</td>\n      <td>NaN</td>\n      <td>NaN</td>\n    </tr>\n    <tr>\n      <th>14425</th>\n      <td>2020-01-31</td>\n      <td>AK</td>\n      <td>0</td>\n      <td>0</td>\n      <td>0</td>\n      <td>0.0</td>\n      <td>2020-03-26T16:22:39.452</td>\n      <td>N/A</td>\n      <td>N/A</td>\n      <td>NaN</td>\n      <td>NaN</td>\n      <td>NaN</td>\n      <td>NaN</td>\n      <td>NaN</td>\n      <td>NaN</td>\n    </tr>\n    <tr>\n      <th>14697</th>\n      <td>2020-01-31</td>\n      <td>VT</td>\n      <td>0</td>\n      <td>0</td>\n      <td>0</td>\n      <td>0.0</td>\n      <td>2020-03-26T16:22:39.452</td>\n      <td>Not agree</td>\n      <td>Not agree</td>\n      <td>NaN</td>\n      <td>NaN</td>\n      <td>NaN</td>\n      <td>NaN</td>\n      <td>NaN</td>\n      <td>NaN</td>\n    </tr>\n    <tr>\n      <th>14969</th>\n      <td>2020-01-31</td>\n      <td>GU</td>\n      <td>0</td>\n      <td>0</td>\n      <td>0</td>\n      <td>0.0</td>\n      <td>2020-03-26T16:22:39.452</td>\n      <td>Not agree</td>\n      <td>Not agree</td>\n      <td>NaN</td>\n      <td>NaN</td>\n      <td>NaN</td>\n      <td>NaN</td>\n      <td>NaN</td>\n      <td>NaN</td>\n    </tr>\n    <tr>\n      <th>15241</th>\n      <td>2020-01-31</td>\n      <td>VI</td>\n      <td>0</td>\n      <td>0</td>\n      <td>0</td>\n      <td>0.0</td>\n      <td>2020-03-26T16:22:39.452</td>\n      <td>NaN</td>\n      <td>NaN</td>\n      <td>NaN</td>\n      <td>NaN</td>\n      <td>NaN</td>\n      <td>NaN</td>\n      <td>NaN</td>\n      <td>NaN</td>\n    </tr>\n    <tr>\n      <th>15513</th>\n      <td>2020-01-31</td>\n      <td>MP</td>\n      <td>0</td>\n      <td>0</td>\n      <td>0</td>\n      <td>0.0</td>\n      <td>2020-03-26T16:22:39.452</td>\n      <td>Agree</td>\n      <td>Agree</td>\n      <td>NaN</td>\n      <td>NaN</td>\n      <td>NaN</td>\n      <td>NaN</td>\n      <td>NaN</td>\n      <td>NaN</td>\n    </tr>\n    <tr>\n      <th>15785</th>\n      <td>2020-01-31</td>\n      <td>FSM</td>\n      <td>0</td>\n      <td>0</td>\n      <td>0</td>\n      <td>0.0</td>\n      <td>2020-03-26T16:22:39.452</td>\n      <td>Agree</td>\n      <td>Agree</td>\n      <td>NaN</td>\n      <td>NaN</td>\n      <td>NaN</td>\n      <td>NaN</td>\n      <td>NaN</td>\n      <td>NaN</td>\n    </tr>\n    <tr>\n      <th>8713</th>\n      <td>2020-01-31</td>\n      <td>NV</td>\n      <td>0</td>\n      <td>0</td>\n      <td>0</td>\n      <td>0.0</td>\n      <td>2020-03-26T16:22:39.452</td>\n      <td>NaN</td>\n      <td>NaN</td>\n      <td>NaN</td>\n      <td>NaN</td>\n      <td>NaN</td>\n      <td>NaN</td>\n      <td>NaN</td>\n      <td>NaN</td>\n    </tr>\n    <tr>\n      <th>8169</th>\n      <td>2020-01-31</td>\n      <td>NC</td>\n      <td>0</td>\n      <td>0</td>\n      <td>0</td>\n      <td>0.0</td>\n      <td>2020-03-26T16:22:39.452</td>\n      <td>Agree</td>\n      <td>Agree</td>\n      <td>NaN</td>\n      <td>NaN</td>\n      <td>NaN</td>\n      <td>NaN</td>\n      <td>NaN</td>\n      <td>NaN</td>\n    </tr>\n    <tr>\n      <th>281</th>\n      <td>2020-01-31</td>\n      <td>FL</td>\n      <td>0</td>\n      <td>0</td>\n      <td>0</td>\n      <td>0.0</td>\n      <td>2020-03-26T16:22:39.452</td>\n      <td>Not agree</td>\n      <td>Not agree</td>\n      <td>NaN</td>\n      <td>NaN</td>\n      <td>NaN</td>\n      <td>NaN</td>\n      <td>NaN</td>\n      <td>NaN</td>\n    </tr>\n    <tr>\n      <th>7897</th>\n      <td>2020-01-31</td>\n      <td>PR</td>\n      <td>0</td>\n      <td>0</td>\n      <td>0</td>\n      <td>0.0</td>\n      <td>2020-03-26T16:22:39.452</td>\n      <td>Agree</td>\n      <td>Agree</td>\n      <td>NaN</td>\n      <td>NaN</td>\n      <td>NaN</td>\n      <td>NaN</td>\n      <td>NaN</td>\n      <td>NaN</td>\n    </tr>\n    <tr>\n      <th>553</th>\n      <td>2020-01-31</td>\n      <td>AZ</td>\n      <td>1</td>\n      <td>0</td>\n      <td>0</td>\n      <td>0.0</td>\n      <td>2020-03-26T16:22:39.452</td>\n      <td>Agree</td>\n      <td>Agree</td>\n      <td>NaN</td>\n      <td>NaN</td>\n      <td>NaN</td>\n      <td>NaN</td>\n      <td>NaN</td>\n      <td>NaN</td>\n    </tr>\n    <tr>\n      <th>825</th>\n      <td>2020-01-31</td>\n      <td>SC</td>\n      <td>0</td>\n      <td>0</td>\n      <td>0</td>\n      <td>0.0</td>\n      <td>2020-03-26T16:22:39.452</td>\n      <td>Agree</td>\n      <td>Agree</td>\n      <td>NaN</td>\n      <td>NaN</td>\n      <td>NaN</td>\n      <td>NaN</td>\n      <td>NaN</td>\n      <td>NaN</td>\n    </tr>\n    <tr>\n      <th>1097</th>\n      <td>2020-01-31</td>\n      <td>CT</td>\n      <td>0</td>\n      <td>0</td>\n      <td>0</td>\n      <td>0.0</td>\n      <td>2020-03-26T16:22:39.452</td>\n      <td>Agree</td>\n      <td>Agree</td>\n      <td>NaN</td>\n      <td>NaN</td>\n      <td>NaN</td>\n      <td>NaN</td>\n      <td>NaN</td>\n      <td>NaN</td>\n    </tr>\n    <tr>\n      <th>1369</th>\n      <td>2020-01-31</td>\n      <td>NE</td>\n      <td>0</td>\n      <td>0</td>\n      <td>0</td>\n      <td>0.0</td>\n      <td>2020-03-26T16:22:39.452</td>\n      <td>Not agree</td>\n      <td>Not agree</td>\n      <td>NaN</td>\n      <td>NaN</td>\n      <td>NaN</td>\n      <td>NaN</td>\n      <td>NaN</td>\n      <td>NaN</td>\n    </tr>\n    <tr>\n      <th>1641</th>\n      <td>2020-01-31</td>\n      <td>KY</td>\n      <td>0</td>\n      <td>0</td>\n      <td>0</td>\n      <td>0.0</td>\n      <td>2020-03-26T16:22:39.452</td>\n      <td>Agree</td>\n      <td>Agree</td>\n      <td>NaN</td>\n      <td>NaN</td>\n      <td>NaN</td>\n      <td>NaN</td>\n      <td>NaN</td>\n      <td>NaN</td>\n    </tr>\n    <tr>\n      <th>1913</th>\n      <td>2020-01-31</td>\n      <td>WY</td>\n      <td>0</td>\n      <td>0</td>\n      <td>0</td>\n      <td>0.0</td>\n      <td>2020-03-26T16:22:39.452</td>\n      <td>Agree</td>\n      <td>Agree</td>\n      <td>NaN</td>\n      <td>NaN</td>\n      <td>NaN</td>\n      <td>NaN</td>\n      <td>NaN</td>\n      <td>NaN</td>\n    </tr>\n    <tr>\n      <th>2185</th>\n      <td>2020-01-31</td>\n      <td>IA</td>\n      <td>0</td>\n      <td>0</td>\n      <td>0</td>\n      <td>0.0</td>\n      <td>2020-03-26T16:22:39.452</td>\n      <td>Not agree</td>\n      <td>Not agree</td>\n      <td>NaN</td>\n      <td>NaN</td>\n      <td>NaN</td>\n      <td>NaN</td>\n      <td>NaN</td>\n      <td>NaN</td>\n    </tr>\n    <tr>\n      <th>2457</th>\n      <td>2020-01-31</td>\n      <td>NM</td>\n      <td>0</td>\n      <td>0</td>\n      <td>0</td>\n      <td>0.0</td>\n      <td>2020-03-26T16:22:39.452</td>\n      <td>N/A</td>\n      <td>Not agree</td>\n      <td>NaN</td>\n      <td>NaN</td>\n      <td>NaN</td>\n      <td>NaN</td>\n      <td>NaN</td>\n      <td>NaN</td>\n    </tr>\n    <tr>\n      <th>2729</th>\n      <td>2020-01-31</td>\n      <td>ND</td>\n      <td>0</td>\n      <td>0</td>\n      <td>0</td>\n      <td>0.0</td>\n      <td>2020-03-26T16:22:39.452</td>\n      <td>Not agree</td>\n      <td>Not agree</td>\n      <td>NaN</td>\n      <td>NaN</td>\n      <td>NaN</td>\n      <td>NaN</td>\n      <td>NaN</td>\n      <td>NaN</td>\n    </tr>\n    <tr>\n      <th>3001</th>\n      <td>2020-01-31</td>\n      <td>WA</td>\n      <td>1</td>\n      <td>0</td>\n      <td>0</td>\n      <td>0.0</td>\n      <td>2020-03-26T16:22:39.452</td>\n      <td>N/A</td>\n      <td>N/A</td>\n      <td>NaN</td>\n      <td>NaN</td>\n      <td>NaN</td>\n      <td>NaN</td>\n      <td>NaN</td>\n      <td>NaN</td>\n    </tr>\n    <tr>\n      <th>3273</th>\n      <td>2020-01-31</td>\n      <td>RMI</td>\n      <td>0</td>\n      <td>0</td>\n      <td>0</td>\n      <td>0.0</td>\n      <td>2020-03-26T16:22:39.452</td>\n      <td>Agree</td>\n      <td>Agree</td>\n      <td>NaN</td>\n      <td>NaN</td>\n      <td>NaN</td>\n      <td>NaN</td>\n      <td>NaN</td>\n      <td>NaN</td>\n    </tr>\n    <tr>\n      <th>3545</th>\n      <td>2020-01-31</td>\n      <td>TN</td>\n      <td>0</td>\n      <td>0</td>\n      <td>0</td>\n      <td>0.0</td>\n      <td>2020-03-26T16:22:39.452</td>\n      <td>Agree</td>\n      <td>Agree</td>\n      <td>NaN</td>\n      <td>NaN</td>\n      <td>NaN</td>\n      <td>NaN</td>\n      <td>NaN</td>\n      <td>NaN</td>\n    </tr>\n    <tr>\n      <th>3817</th>\n      <td>2020-01-31</td>\n      <td>AS</td>\n      <td>0</td>\n      <td>0</td>\n      <td>0</td>\n      <td>0.0</td>\n      <td>2020-03-26T16:22:39.452</td>\n      <td>NaN</td>\n      <td>NaN</td>\n      <td>NaN</td>\n      <td>NaN</td>\n      <td>NaN</td>\n      <td>NaN</td>\n      <td>NaN</td>\n      <td>NaN</td>\n    </tr>\n    <tr>\n      <th>4089</th>\n      <td>2020-01-31</td>\n      <td>MA</td>\n      <td>0</td>\n      <td>0</td>\n      <td>0</td>\n      <td>0.0</td>\n      <td>2020-03-26T16:22:39.452</td>\n      <td>Agree</td>\n      <td>Agree</td>\n      <td>NaN</td>\n      <td>NaN</td>\n      <td>NaN</td>\n      <td>NaN</td>\n      <td>NaN</td>\n      <td>NaN</td>\n    </tr>\n    <tr>\n      <th>4361</th>\n      <td>2020-01-31</td>\n      <td>PA</td>\n      <td>0</td>\n      <td>0</td>\n      <td>0</td>\n      <td>0.0</td>\n      <td>2020-03-26T16:22:39.452</td>\n      <td>Agree</td>\n      <td>Not agree</td>\n      <td>NaN</td>\n      <td>NaN</td>\n      <td>NaN</td>\n      <td>NaN</td>\n      <td>NaN</td>\n      <td>NaN</td>\n    </tr>\n    <tr>\n      <th>4633</th>\n      <td>2020-01-31</td>\n      <td>NYC</td>\n      <td>0</td>\n      <td>0</td>\n      <td>0</td>\n      <td>0.0</td>\n      <td>2020-03-26T16:22:39.452</td>\n      <td>Agree</td>\n      <td>Agree</td>\n      <td>NaN</td>\n      <td>NaN</td>\n      <td>NaN</td>\n      <td>NaN</td>\n      <td>NaN</td>\n      <td>NaN</td>\n    </tr>\n    <tr>\n      <th>4905</th>\n      <td>2020-01-31</td>\n      <td>OH</td>\n      <td>0</td>\n      <td>0</td>\n      <td>0</td>\n      <td>0.0</td>\n      <td>2020-03-26T16:22:39.452</td>\n      <td>Agree</td>\n      <td>Agree</td>\n      <td>NaN</td>\n      <td>NaN</td>\n      <td>NaN</td>\n      <td>NaN</td>\n      <td>NaN</td>\n      <td>NaN</td>\n    </tr>\n    <tr>\n      <th>5177</th>\n      <td>2020-01-31</td>\n      <td>AL</td>\n      <td>0</td>\n      <td>0</td>\n      <td>0</td>\n      <td>0.0</td>\n      <td>2020-03-26T16:22:39.452</td>\n      <td>Agree</td>\n      <td>Agree</td>\n      <td>NaN</td>\n      <td>NaN</td>\n      <td>NaN</td>\n      <td>NaN</td>\n      <td>NaN</td>\n      <td>NaN</td>\n    </tr>\n    <tr>\n      <th>5449</th>\n      <td>2020-01-31</td>\n      <td>VA</td>\n      <td>0</td>\n      <td>0</td>\n      <td>0</td>\n      <td>0.0</td>\n      <td>2020-03-26T16:22:39.452</td>\n      <td>Agree</td>\n      <td>Agree</td>\n      <td>NaN</td>\n      <td>NaN</td>\n      <td>NaN</td>\n      <td>NaN</td>\n      <td>NaN</td>\n      <td>NaN</td>\n    </tr>\n    <tr>\n      <th>5721</th>\n      <td>2020-01-31</td>\n      <td>MI</td>\n      <td>0</td>\n      <td>0</td>\n      <td>0</td>\n      <td>0.0</td>\n      <td>2020-03-26T16:22:39.452</td>\n      <td>Agree</td>\n      <td>Agree</td>\n      <td>NaN</td>\n      <td>NaN</td>\n      <td>NaN</td>\n      <td>NaN</td>\n      <td>NaN</td>\n      <td>NaN</td>\n    </tr>\n    <tr>\n      <th>5993</th>\n      <td>2020-01-31</td>\n      <td>MS</td>\n      <td>0</td>\n      <td>0</td>\n      <td>0</td>\n      <td>0.0</td>\n      <td>2020-03-26T16:22:39.452</td>\n      <td>Agree</td>\n      <td>Agree</td>\n      <td>NaN</td>\n      <td>NaN</td>\n      <td>NaN</td>\n      <td>NaN</td>\n      <td>NaN</td>\n      <td>NaN</td>\n    </tr>\n    <tr>\n      <th>6809</th>\n      <td>2020-01-31</td>\n      <td>TX</td>\n      <td>0</td>\n      <td>0</td>\n      <td>0</td>\n      <td>0.0</td>\n      <td>2020-03-26T16:22:39.452</td>\n      <td>Not agree</td>\n      <td>Not agree</td>\n      <td>NaN</td>\n      <td>NaN</td>\n      <td>NaN</td>\n      <td>NaN</td>\n      <td>NaN</td>\n      <td>NaN</td>\n    </tr>\n    <tr>\n      <th>7081</th>\n      <td>2020-01-31</td>\n      <td>WI</td>\n      <td>0</td>\n      <td>0</td>\n      <td>0</td>\n      <td>0.0</td>\n      <td>2020-03-26T16:22:39.452</td>\n      <td>Agree</td>\n      <td>Agree</td>\n      <td>NaN</td>\n      <td>NaN</td>\n      <td>NaN</td>\n      <td>NaN</td>\n      <td>NaN</td>\n      <td>NaN</td>\n    </tr>\n    <tr>\n      <th>7353</th>\n      <td>2020-01-31</td>\n      <td>NJ</td>\n      <td>0</td>\n      <td>0</td>\n      <td>0</td>\n      <td>0.0</td>\n      <td>2020-03-26T16:22:39.452</td>\n      <td>Not agree</td>\n      <td>Agree</td>\n      <td>NaN</td>\n      <td>NaN</td>\n      <td>NaN</td>\n      <td>NaN</td>\n      <td>NaN</td>\n      <td>NaN</td>\n    </tr>\n    <tr>\n      <th>7625</th>\n      <td>2020-01-31</td>\n      <td>LA</td>\n      <td>0</td>\n      <td>0</td>\n      <td>0</td>\n      <td>0.0</td>\n      <td>2020-03-26T16:22:39.452</td>\n      <td>Not agree</td>\n      <td>Agree</td>\n      <td>NaN</td>\n      <td>NaN</td>\n      <td>NaN</td>\n      <td>NaN</td>\n      <td>NaN</td>\n      <td>NaN</td>\n    </tr>\n    <tr>\n      <th>16057</th>\n      <td>2020-01-31</td>\n      <td>PW</td>\n      <td>0</td>\n      <td>0</td>\n      <td>0</td>\n      <td>0.0</td>\n      <td>2020-03-26T16:22:39.452</td>\n      <td>NaN</td>\n      <td>NaN</td>\n      <td>NaN</td>\n      <td>NaN</td>\n      <td>NaN</td>\n      <td>NaN</td>\n      <td>NaN</td>\n      <td>NaN</td>\n    </tr>\n  </tbody>\n</table>\n</div>"
     },
     "metadata": {},
     "execution_count": 36
    }
   ],
   "source": [
    "df.query('submission_date == \"2020-01-31\"').sort_values('new_case', ascending=False)"
   ]
  },
  {
   "cell_type": "code",
   "execution_count": null,
   "metadata": {},
   "outputs": [],
   "source": []
  }
 ]
}